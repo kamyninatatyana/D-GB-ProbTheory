{
 "cells": [
  {
   "cell_type": "markdown",
   "metadata": {},
   "source": [
    "# Камынина Т. Н. Курсовой проект"
   ]
  },
  {
   "cell_type": "markdown",
   "metadata": {},
   "source": [
    "В курсовом проекте, изначально я хотела попытаться затронуть все 4 темы, заявленные для курсовой работы. Но в силу неудачно выбранного датасета, который как выяснилось не соответствует нормальному распределению и последующей нехватке времени, у меня получился только EDA. Ну плюс какие-то небольшие попытки, сделать что-то из того, о чем Вы нам рассказывали на лекциях.\n",
    "\n",
    "Также из недочетов, которые я не успела убрать, но о которых знаю - это повторяющийся код (надо было сделать функции) и не далеко не самый оптимальная реализация группировки для некоторых признаков (надо было обойтись без ручного перечисления)."
   ]
  },
  {
   "cell_type": "code",
   "execution_count": 661,
   "metadata": {},
   "outputs": [],
   "source": [
    "# Импорт необходимых библиотек\n",
    "import pandas as pd\n",
    "import numpy as np\n",
    "import matplotlib.pyplot as plt\n",
    "import seaborn as sns\n",
    "from statsmodels.graphics.gofplots import qqplot\n",
    "from scipy.stats import shapiro\n",
    "from scipy.stats import normaltest\n",
    "from scipy.stats import anderson\n",
    "from collections import Counter"
   ]
  },
  {
   "cell_type": "markdown",
   "metadata": {},
   "source": [
    "## Разведочный анализ данных (EDA)"
   ]
  },
  {
   "cell_type": "code",
   "execution_count": 662,
   "metadata": {},
   "outputs": [
    {
     "data": {
      "text/html": [
       "<div>\n",
       "<style scoped>\n",
       "    .dataframe tbody tr th:only-of-type {\n",
       "        vertical-align: middle;\n",
       "    }\n",
       "\n",
       "    .dataframe tbody tr th {\n",
       "        vertical-align: top;\n",
       "    }\n",
       "\n",
       "    .dataframe thead th {\n",
       "        text-align: right;\n",
       "    }\n",
       "</style>\n",
       "<table border=\"1\" class=\"dataframe\">\n",
       "  <thead>\n",
       "    <tr style=\"text-align: right;\">\n",
       "      <th></th>\n",
       "      <th>model</th>\n",
       "      <th>year</th>\n",
       "      <th>price</th>\n",
       "      <th>transmission</th>\n",
       "      <th>mileage</th>\n",
       "      <th>fuelType</th>\n",
       "      <th>tax</th>\n",
       "      <th>mpg</th>\n",
       "      <th>engineSize</th>\n",
       "    </tr>\n",
       "  </thead>\n",
       "  <tbody>\n",
       "    <tr>\n",
       "      <th>0</th>\n",
       "      <td>5 Series</td>\n",
       "      <td>2014</td>\n",
       "      <td>11200</td>\n",
       "      <td>Automatic</td>\n",
       "      <td>67068</td>\n",
       "      <td>Diesel</td>\n",
       "      <td>125</td>\n",
       "      <td>57.6</td>\n",
       "      <td>2.0</td>\n",
       "    </tr>\n",
       "    <tr>\n",
       "      <th>1</th>\n",
       "      <td>6 Series</td>\n",
       "      <td>2018</td>\n",
       "      <td>27000</td>\n",
       "      <td>Automatic</td>\n",
       "      <td>14827</td>\n",
       "      <td>Petrol</td>\n",
       "      <td>145</td>\n",
       "      <td>42.8</td>\n",
       "      <td>2.0</td>\n",
       "    </tr>\n",
       "    <tr>\n",
       "      <th>2</th>\n",
       "      <td>5 Series</td>\n",
       "      <td>2016</td>\n",
       "      <td>16000</td>\n",
       "      <td>Automatic</td>\n",
       "      <td>62794</td>\n",
       "      <td>Diesel</td>\n",
       "      <td>160</td>\n",
       "      <td>51.4</td>\n",
       "      <td>3.0</td>\n",
       "    </tr>\n",
       "    <tr>\n",
       "      <th>3</th>\n",
       "      <td>1 Series</td>\n",
       "      <td>2017</td>\n",
       "      <td>12750</td>\n",
       "      <td>Automatic</td>\n",
       "      <td>26676</td>\n",
       "      <td>Diesel</td>\n",
       "      <td>145</td>\n",
       "      <td>72.4</td>\n",
       "      <td>1.5</td>\n",
       "    </tr>\n",
       "    <tr>\n",
       "      <th>4</th>\n",
       "      <td>7 Series</td>\n",
       "      <td>2014</td>\n",
       "      <td>14500</td>\n",
       "      <td>Automatic</td>\n",
       "      <td>39554</td>\n",
       "      <td>Diesel</td>\n",
       "      <td>160</td>\n",
       "      <td>50.4</td>\n",
       "      <td>3.0</td>\n",
       "    </tr>\n",
       "  </tbody>\n",
       "</table>\n",
       "</div>"
      ],
      "text/plain": [
       "       model  year  price transmission  mileage fuelType  tax   mpg  \\\n",
       "0   5 Series  2014  11200    Automatic    67068   Diesel  125  57.6   \n",
       "1   6 Series  2018  27000    Automatic    14827   Petrol  145  42.8   \n",
       "2   5 Series  2016  16000    Automatic    62794   Diesel  160  51.4   \n",
       "3   1 Series  2017  12750    Automatic    26676   Diesel  145  72.4   \n",
       "4   7 Series  2014  14500    Automatic    39554   Diesel  160  50.4   \n",
       "\n",
       "   engineSize  \n",
       "0         2.0  \n",
       "1         2.0  \n",
       "2         3.0  \n",
       "3         1.5  \n",
       "4         3.0  "
      ]
     },
     "execution_count": 662,
     "metadata": {},
     "output_type": "execute_result"
    }
   ],
   "source": [
    "DATASET_PATH='./bmw.csv'\n",
    "df = pd.read_csv(DATASET_PATH, sep=',')\n",
    "df.head(5)"
   ]
  },
  {
   "cell_type": "markdown",
   "metadata": {},
   "source": [
    "Датасет содержит информацию о машинах марки BMW, их основных характеристиках и стоимости каждой машины. В датасете 10781 запись. 8 предположительно независимых показателей:\n",
    " * <b>model</b> - модель, \n",
    " * <b>year</b> - год выпуска, \n",
    " * <b>transmission</b> - коробка передач, \n",
    " * <b>mileage</b> - пробег, \n",
    " * <b>fuelType</b> - тип топлива, \n",
    " * <b>tax</b> - налог?, \n",
    " * <b>mpg</b> - расход топлива на единицу пробега, \n",
    " * <b>engineSize</b> - мощность двигателя <br>\n",
    " \n",
    " И один результирующий - <b>price</b> (цена).\n",
    " \n",
    " <b>Model</b>, <b>transmission</b> и <b>fuelType</b> - категориальные переменные. Остальные - количественные."
   ]
  },
  {
   "cell_type": "markdown",
   "metadata": {},
   "source": [
    "### Проверка на целостность данных и предварительная обработка"
   ]
  },
  {
   "cell_type": "markdown",
   "metadata": {},
   "source": [
    "Проверим датасет на целостность данных:"
   ]
  },
  {
   "cell_type": "code",
   "execution_count": 663,
   "metadata": {},
   "outputs": [
    {
     "data": {
      "text/plain": [
       "10781"
      ]
     },
     "execution_count": 663,
     "metadata": {},
     "output_type": "execute_result"
    }
   ],
   "source": [
    "len(df)"
   ]
  },
  {
   "cell_type": "code",
   "execution_count": 664,
   "metadata": {},
   "outputs": [
    {
     "name": "stdout",
     "output_type": "stream",
     "text": [
      "<class 'pandas.core.frame.DataFrame'>\n",
      "RangeIndex: 10781 entries, 0 to 10780\n",
      "Data columns (total 9 columns):\n",
      " #   Column        Non-Null Count  Dtype  \n",
      "---  ------        --------------  -----  \n",
      " 0   model         10781 non-null  object \n",
      " 1   year          10781 non-null  int64  \n",
      " 2   price         10781 non-null  int64  \n",
      " 3   transmission  10781 non-null  object \n",
      " 4   mileage       10781 non-null  int64  \n",
      " 5   fuelType      10781 non-null  object \n",
      " 6   tax           10781 non-null  int64  \n",
      " 7   mpg           10781 non-null  float64\n",
      " 8   engineSize    10781 non-null  float64\n",
      "dtypes: float64(2), int64(4), object(3)\n",
      "memory usage: 758.2+ KB\n"
     ]
    }
   ],
   "source": [
    "df.info()"
   ]
  },
  {
   "cell_type": "markdown",
   "metadata": {},
   "source": [
    "В датасете 10781 запись и для каждого признака соответствующее количество значений. Пропусков нет."
   ]
  },
  {
   "cell_type": "markdown",
   "metadata": {},
   "source": [
    "### Целевая переменная"
   ]
  },
  {
   "cell_type": "markdown",
   "metadata": {},
   "source": [
    "#### Проверка на нормальность"
   ]
  },
  {
   "cell_type": "code",
   "execution_count": 665,
   "metadata": {
    "scrolled": false
   },
   "outputs": [
    {
     "data": {
      "text/plain": [
       "count     10781.000000\n",
       "mean      22733.408867\n",
       "std       11415.528189\n",
       "min        1200.000000\n",
       "25%       14950.000000\n",
       "50%       20462.000000\n",
       "75%       27940.000000\n",
       "max      123456.000000\n",
       "Name: price, dtype: float64"
      ]
     },
     "execution_count": 665,
     "metadata": {},
     "output_type": "execute_result"
    }
   ],
   "source": [
    "df.price.describe()"
   ]
  },
  {
   "cell_type": "code",
   "execution_count": 666,
   "metadata": {
    "scrolled": true
   },
   "outputs": [
    {
     "name": "stdout",
     "output_type": "stream",
     "text": [
      "mean - 22733.41, median - 20462.0, mode - 20980\n"
     ]
    }
   ],
   "source": [
    "mean = round(df['price'].mean(), 2)\n",
    "median = df['price'].median()\n",
    "mode = df['price'].mode()[0]\n",
    "print(f'mean - {mean}, median - {median}, mode - {mode}')"
   ]
  },
  {
   "cell_type": "markdown",
   "metadata": {},
   "source": [
    "#### Визуальная проверка на нормальность:"
   ]
  },
  {
   "cell_type": "code",
   "execution_count": 667,
   "metadata": {},
   "outputs": [
    {
     "data": {
      "image/png": "[encoded data removed]",
      "text/plain": [
       "<Figure size 360x360 with 1 Axes>"
      ]
     },
     "metadata": {},
     "output_type": "display_data"
    }
   ],
   "source": [
    "price = df['price']\n",
    "sns.displot(price, binwidth=5000, kde=True)\n",
    "plt.axvline(mean, color='r', linestyle='--')\n",
    "plt.axvline(median, color='g', linestyle='-')\n",
    "plt.axvline(mode, color='b', linestyle='-')\n",
    "plt.legend({'Mean':mean,'Median':median,'Mode':mode})\n",
    "plt.show()"
   ]
  },
  {
   "cell_type": "markdown",
   "metadata": {},
   "source": [
    "С той же целью построим qq график:"
   ]
  },
  {
   "cell_type": "code",
   "execution_count": 668,
   "metadata": {},
   "outputs": [
    {
     "data": {
      "image/png": "[encoded data removed]",
      "text/plain": [
       "<Figure size 1296x864 with 1 Axes>"
      ]
     },
     "metadata": {},
     "output_type": "display_data"
    }
   ],
   "source": [
    "qqplot(df['price'], line='s')\n",
    "plt.show()"
   ]
  },
  {
   "cell_type": "markdown",
   "metadata": {},
   "source": [
    "#### Статистическая проверка на нормальность:"
   ]
  },
  {
   "cell_type": "markdown",
   "metadata": {},
   "source": [
    "#### Тест Шапиро-Вилка"
   ]
  },
  {
   "cell_type": "code",
   "execution_count": 669,
   "metadata": {},
   "outputs": [
    {
     "name": "stdout",
     "output_type": "stream",
     "text": [
      "Statistics=0.890, p=0.000\n",
      "Sample does not look Gaussian (reject H0)\n"
     ]
    },
    {
     "name": "stderr",
     "output_type": "stream",
     "text": [
      "D:\\anaconda3\\lib\\site-packages\\scipy\\stats\\morestats.py:1681: UserWarning: p-value may not be accurate for N > 5000.\n",
      "  warnings.warn(\"p-value may not be accurate for N > 5000.\")\n"
     ]
    }
   ],
   "source": [
    "stat, p = shapiro(df['price'])\n",
    "print('Statistics=%.3f, p=%.3f' % (stat, p))\n",
    "alpha = 0.05\n",
    "if p > alpha:\n",
    "    print('Sample looks Gaussian (fail to reject H0)')\n",
    "else:\n",
    "    print('Sample does not look Gaussian (reject H0)')"
   ]
  },
  {
   "cell_type": "markdown",
   "metadata": {},
   "source": [
    "#### Тест д'Агостино на K ^ 2"
   ]
  },
  {
   "cell_type": "code",
   "execution_count": 670,
   "metadata": {},
   "outputs": [
    {
     "name": "stdout",
     "output_type": "stream",
     "text": [
      "Statistics=3408.667, p=0.000\n",
      "Sample does not look Gaussian (reject H0)\n"
     ]
    }
   ],
   "source": [
    "stat, p = normaltest(df['price'])\n",
    "print('Statistics=%.3f, p=%.3f' % (stat, p))\n",
    "if p > alpha:\n",
    "    print('Sample looks Gaussian (fail to reject H0)')\n",
    "else:\n",
    "    print('Sample does not look Gaussian (reject H0)')"
   ]
  },
  {
   "cell_type": "markdown",
   "metadata": {},
   "source": [
    "#### Тест Андерсона-Дарлинга"
   ]
  },
  {
   "cell_type": "code",
   "execution_count": 671,
   "metadata": {},
   "outputs": [
    {
     "name": "stdout",
     "output_type": "stream",
     "text": [
      "Statistic: 256.941\n",
      "15.000: 0.576, data does not look normal (reject H0)\n",
      "10.000: 0.656, data does not look normal (reject H0)\n",
      "5.000: 0.787, data does not look normal (reject H0)\n",
      "2.500: 0.918, data does not look normal (reject H0)\n",
      "1.000: 1.092, data does not look normal (reject H0)\n"
     ]
    }
   ],
   "source": [
    "result = anderson(df['price'])\n",
    "print('Statistic: %.3f' % result.statistic)\n",
    "p = 0\n",
    "for i in range(len(result.critical_values)):\n",
    "    sl, cv = result.significance_level[i], result.critical_values[i]\n",
    "    if result.statistic < result.critical_values[i]:\n",
    "        print('%.3f: %.3f, data looks normal (fail to reject H0)' % (sl, cv))\n",
    "    else:\n",
    "        print('%.3f: %.3f, data does not look normal (reject H0)' % (sl, cv))"
   ]
  },
  {
   "cell_type": "markdown",
   "metadata": {},
   "source": [
    "<B>Вывод:</b> Проверка переменной 'price' показала, что распределение значение данной переменной не соответствует критериям нормального распределения. Попытки привести их к нормальному методом взятия натуральных логарифмов и методом Standard Scaler() также не завершились успехом. К, к сожалению, на данном датасете я не смогу привести пример проверки гипотез (хотя сама по себе проверка на соответствие нормальному распределению уже является примером проверки гипотезы :-)). "
   ]
  },
  {
   "cell_type": "markdown",
   "metadata": {},
   "source": [
    "Поработаем с категориальными переменными. У нас их 3: model, transmission, fuelType. Признак model закодируем средней ценой в разрезе моделей, a transmission и fuelType преобразуем в dummies."
   ]
  },
  {
   "cell_type": "markdown",
   "metadata": {},
   "source": [
    "### Общая оценка данных"
   ]
  },
  {
   "cell_type": "code",
   "execution_count": 672,
   "metadata": {},
   "outputs": [
    {
     "data": {
      "text/plain": [
       "Index(['model', 'year', 'price', 'transmission', 'mileage', 'fuelType', 'tax',\n",
       "       'mpg', 'engineSize'],\n",
       "      dtype='object')"
      ]
     },
     "execution_count": 672,
     "metadata": {},
     "output_type": "execute_result"
    }
   ],
   "source": [
    "df.columns"
   ]
  },
  {
   "cell_type": "markdown",
   "metadata": {},
   "source": [
    "#### Year"
   ]
  },
  {
   "cell_type": "code",
   "execution_count": 673,
   "metadata": {},
   "outputs": [
    {
     "data": {
      "text/plain": [
       "count    10781.000000\n",
       "mean      2017.078935\n",
       "std          2.349038\n",
       "min       1996.000000\n",
       "25%       2016.000000\n",
       "50%       2017.000000\n",
       "75%       2019.000000\n",
       "max       2020.000000\n",
       "Name: year, dtype: float64"
      ]
     },
     "execution_count": 673,
     "metadata": {},
     "output_type": "execute_result"
    }
   ],
   "source": [
    "df['year'].describe()"
   ]
  },
  {
   "cell_type": "markdown",
   "metadata": {},
   "source": [
    "В таблице представленные данные по машинам 1996 - 2020 года выпуска. То есть за 25 лет. При этом:\n",
    "* 25% машин в базе - 1996 - 2016 гг выпуска включительно <br>\n",
    "* 50% машин в базе = 2017 - 2019 года выпуска включительно <br>\n",
    "* 25% машин в базе - 2020 года выпуска."
   ]
  },
  {
   "cell_type": "code",
   "execution_count": 674,
   "metadata": {},
   "outputs": [
    {
     "data": {
      "text/plain": [
       "0    2019\n",
       "dtype: int64"
      ]
     },
     "execution_count": 674,
     "metadata": {},
     "output_type": "execute_result"
    }
   ],
   "source": [
    "df['year'].mode()"
   ]
  },
  {
   "cell_type": "markdown",
   "metadata": {},
   "source": [
    "Чаще всего встречаются машины 2019 года."
   ]
  },
  {
   "cell_type": "code",
   "execution_count": 675,
   "metadata": {},
   "outputs": [
    {
     "data": {
      "text/plain": [
       "1996       1\n",
       "1997       1\n",
       "1998       1\n",
       "1999       4\n",
       "2000       2\n",
       "2001       3\n",
       "2002       6\n",
       "2003       2\n",
       "2004      12\n",
       "2005       6\n",
       "2006      14\n",
       "2007      16\n",
       "2008      23\n",
       "2009      30\n",
       "2010      41\n",
       "2011      51\n",
       "2012     119\n",
       "2013     357\n",
       "2014     501\n",
       "2015     922\n",
       "2016    1882\n",
       "2017    1721\n",
       "2018     848\n",
       "2019    3485\n",
       "2020     733\n",
       "Name: year, dtype: int64"
      ]
     },
     "execution_count": 675,
     "metadata": {},
     "output_type": "execute_result"
    }
   ],
   "source": [
    "df['year'].value_counts().sort_index(ascending=True)"
   ]
  },
  {
   "cell_type": "markdown",
   "metadata": {},
   "source": [
    "25 уникальных значений признака это многовато для визуального анализа. Объединим года в периоды по 5 лет."
   ]
  },
  {
   "cell_type": "code",
   "execution_count": 676,
   "metadata": {},
   "outputs": [
    {
     "data": {
      "text/html": [
       "<div>\n",
       "<style scoped>\n",
       "    .dataframe tbody tr th:only-of-type {\n",
       "        vertical-align: middle;\n",
       "    }\n",
       "\n",
       "    .dataframe tbody tr th {\n",
       "        vertical-align: top;\n",
       "    }\n",
       "\n",
       "    .dataframe thead th {\n",
       "        text-align: right;\n",
       "    }\n",
       "</style>\n",
       "<table border=\"1\" class=\"dataframe\">\n",
       "  <thead>\n",
       "    <tr style=\"text-align: right;\">\n",
       "      <th></th>\n",
       "      <th>model</th>\n",
       "      <th>year</th>\n",
       "      <th>price</th>\n",
       "      <th>transmission</th>\n",
       "      <th>mileage</th>\n",
       "      <th>fuelType</th>\n",
       "      <th>tax</th>\n",
       "      <th>mpg</th>\n",
       "      <th>engineSize</th>\n",
       "      <th>periods</th>\n",
       "    </tr>\n",
       "  </thead>\n",
       "  <tbody>\n",
       "    <tr>\n",
       "      <th>0</th>\n",
       "      <td>5 Series</td>\n",
       "      <td>2014</td>\n",
       "      <td>11200</td>\n",
       "      <td>Automatic</td>\n",
       "      <td>67068</td>\n",
       "      <td>Diesel</td>\n",
       "      <td>125</td>\n",
       "      <td>57.6</td>\n",
       "      <td>2.0</td>\n",
       "      <td>2015</td>\n",
       "    </tr>\n",
       "    <tr>\n",
       "      <th>1</th>\n",
       "      <td>6 Series</td>\n",
       "      <td>2018</td>\n",
       "      <td>27000</td>\n",
       "      <td>Automatic</td>\n",
       "      <td>14827</td>\n",
       "      <td>Petrol</td>\n",
       "      <td>145</td>\n",
       "      <td>42.8</td>\n",
       "      <td>2.0</td>\n",
       "      <td>2020</td>\n",
       "    </tr>\n",
       "    <tr>\n",
       "      <th>2</th>\n",
       "      <td>5 Series</td>\n",
       "      <td>2016</td>\n",
       "      <td>16000</td>\n",
       "      <td>Automatic</td>\n",
       "      <td>62794</td>\n",
       "      <td>Diesel</td>\n",
       "      <td>160</td>\n",
       "      <td>51.4</td>\n",
       "      <td>3.0</td>\n",
       "      <td>2020</td>\n",
       "    </tr>\n",
       "    <tr>\n",
       "      <th>3</th>\n",
       "      <td>1 Series</td>\n",
       "      <td>2017</td>\n",
       "      <td>12750</td>\n",
       "      <td>Automatic</td>\n",
       "      <td>26676</td>\n",
       "      <td>Diesel</td>\n",
       "      <td>145</td>\n",
       "      <td>72.4</td>\n",
       "      <td>1.5</td>\n",
       "      <td>2020</td>\n",
       "    </tr>\n",
       "    <tr>\n",
       "      <th>4</th>\n",
       "      <td>7 Series</td>\n",
       "      <td>2014</td>\n",
       "      <td>14500</td>\n",
       "      <td>Automatic</td>\n",
       "      <td>39554</td>\n",
       "      <td>Diesel</td>\n",
       "      <td>160</td>\n",
       "      <td>50.4</td>\n",
       "      <td>3.0</td>\n",
       "      <td>2015</td>\n",
       "    </tr>\n",
       "  </tbody>\n",
       "</table>\n",
       "</div>"
      ],
      "text/plain": [
       "       model  year  price transmission  mileage fuelType  tax   mpg  \\\n",
       "0   5 Series  2014  11200    Automatic    67068   Diesel  125  57.6   \n",
       "1   6 Series  2018  27000    Automatic    14827   Petrol  145  42.8   \n",
       "2   5 Series  2016  16000    Automatic    62794   Diesel  160  51.4   \n",
       "3   1 Series  2017  12750    Automatic    26676   Diesel  145  72.4   \n",
       "4   7 Series  2014  14500    Automatic    39554   Diesel  160  50.4   \n",
       "\n",
       "   engineSize  periods  \n",
       "0         2.0     2015  \n",
       "1         2.0     2020  \n",
       "2         3.0     2020  \n",
       "3         1.5     2020  \n",
       "4         3.0     2015  "
      ]
     },
     "execution_count": 676,
     "metadata": {},
     "output_type": "execute_result"
    }
   ],
   "source": [
    "period_dict = {2010: (1996, 1997, 1998, 1999, 2000, 2001, 2002, 2003, 2004, 2005, 2006, 2007, 2008, 2009, 2010),\n",
    "               2015: (2011, 2012, 2013, 2014, 2015),\n",
    "               2020: (2016, 2017, 2018, 2019, 2020)}\n",
    "\n",
    "periods = []\n",
    "\n",
    "for year in df['year']:\n",
    "    for key, value in period_dict.items():\n",
    "        if year in value:\n",
    "            periods.append(key)\n",
    "\n",
    "df['periods'] = periods\n",
    "df.head()"
   ]
  },
  {
   "cell_type": "code",
   "execution_count": 677,
   "metadata": {},
   "outputs": [
    {
     "data": {
      "text/plain": [
       "{2015: 1950, 2020: 8669, 2010: 162}"
      ]
     },
     "execution_count": 677,
     "metadata": {},
     "output_type": "execute_result"
    }
   ],
   "source": [
    "cnt_periods = Counter(df['periods'])\n",
    "cnt_periods = dict(cnt_periods)\n",
    "cnt_periods"
   ]
  },
  {
   "cell_type": "code",
   "execution_count": 678,
   "metadata": {},
   "outputs": [
    {
     "data": {
      "image/png": "[encoded data removed]",
      "text/plain": [
       "<Figure size 360x360 with 1 Axes>"
      ]
     },
     "metadata": {},
     "output_type": "display_data"
    }
   ],
   "source": [
    "fig1, ax1 = plt.subplots()\n",
    "ax1.pie(cnt_periods.values(), labels=cnt_periods.keys(), autopct='%1.1f%%')\n",
    "ax1.axis('equal') \n",
    "ax1.legend(loc='upper left', bbox_to_anchor=(1.0, 1.0))\n",
    "fig = plt.gcf()\n",
    "fig.set_size_inches(5,5)\n",
    "plt.show()"
   ]
  },
  {
   "cell_type": "markdown",
   "metadata": {},
   "source": [
    "В базе данных всего 162 машины или 1.5% с годом выпуска 1996 - 2010. <br>\n",
    "1950 машин или 18.1% - с годом выпуска 2011 = 2015 <br>\n",
    "И на 80.4% наша база состоит из данных по машинам с годом выпуска 2016 - 2020."
   ]
  },
  {
   "cell_type": "markdown",
   "metadata": {},
   "source": [
    "#### Model"
   ]
  },
  {
   "cell_type": "code",
   "execution_count": 679,
   "metadata": {},
   "outputs": [
    {
     "data": {
      "text/plain": [
       "(array([' 5 Series', ' 6 Series', ' 1 Series', ' 7 Series', ' 2 Series',\n",
       "        ' 4 Series', ' X3', ' 3 Series', ' X5', ' X4', ' i3', ' X1', ' M4',\n",
       "        ' X2', ' X6', ' 8 Series', ' Z4', ' X7', ' M5', ' i8', ' M2',\n",
       "        ' M3', ' M6', ' Z3'], dtype=object),\n",
       " 24)"
      ]
     },
     "execution_count": 679,
     "metadata": {},
     "output_type": "execute_result"
    }
   ],
   "source": [
    "df['model'].unique(), len(df['model'].unique())"
   ]
  },
  {
   "cell_type": "code",
   "execution_count": 680,
   "metadata": {},
   "outputs": [
    {
     "data": {
      "text/plain": [
       " 1 Series    1969\n",
       " 2 Series    1229\n",
       " 3 Series    2443\n",
       " 4 Series     995\n",
       " 5 Series    1056\n",
       " 6 Series     108\n",
       " 7 Series     106\n",
       " 8 Series      39\n",
       " M2            21\n",
       " M3            27\n",
       " M4           125\n",
       " M5            29\n",
       " M6             8\n",
       " X1           804\n",
       " X2           288\n",
       " X3           551\n",
       " X4           179\n",
       " X5           468\n",
       " X6           106\n",
       " X7            55\n",
       " Z3             7\n",
       " Z4           108\n",
       " i3            43\n",
       " i8            17\n",
       "Name: model, dtype: int64"
      ]
     },
     "execution_count": 680,
     "metadata": {},
     "output_type": "execute_result"
    }
   ],
   "source": [
    "df['model'].value_counts().sort_index(ascending=True)"
   ]
  },
  {
   "cell_type": "markdown",
   "metadata": {},
   "source": [
    "В датасете представлены данные по 24 моделям. Самое большое количество записей для БМВ 3 и 1 серии. На седаны 1-5 серии приходится 71% всех записей базы. Чтобы остальные данные не терялись на фоне этой группы, необходимо укрупнить группировку для остальных моделей."
   ]
  },
  {
   "cell_type": "code",
   "execution_count": 681,
   "metadata": {},
   "outputs": [
    {
     "data": {
      "text/html": [
       "<div>\n",
       "<style scoped>\n",
       "    .dataframe tbody tr th:only-of-type {\n",
       "        vertical-align: middle;\n",
       "    }\n",
       "\n",
       "    .dataframe tbody tr th {\n",
       "        vertical-align: top;\n",
       "    }\n",
       "\n",
       "    .dataframe thead th {\n",
       "        text-align: right;\n",
       "    }\n",
       "</style>\n",
       "<table border=\"1\" class=\"dataframe\">\n",
       "  <thead>\n",
       "    <tr style=\"text-align: right;\">\n",
       "      <th></th>\n",
       "      <th>model</th>\n",
       "      <th>year</th>\n",
       "      <th>price</th>\n",
       "      <th>transmission</th>\n",
       "      <th>mileage</th>\n",
       "      <th>fuelType</th>\n",
       "      <th>tax</th>\n",
       "      <th>mpg</th>\n",
       "      <th>engineSize</th>\n",
       "      <th>periods</th>\n",
       "      <th>category</th>\n",
       "    </tr>\n",
       "  </thead>\n",
       "  <tbody>\n",
       "    <tr>\n",
       "      <th>0</th>\n",
       "      <td>5 Series</td>\n",
       "      <td>2014</td>\n",
       "      <td>11200</td>\n",
       "      <td>Automatic</td>\n",
       "      <td>67068</td>\n",
       "      <td>Diesel</td>\n",
       "      <td>125</td>\n",
       "      <td>57.6</td>\n",
       "      <td>2.0</td>\n",
       "      <td>2015</td>\n",
       "      <td>5 Series</td>\n",
       "    </tr>\n",
       "    <tr>\n",
       "      <th>1</th>\n",
       "      <td>6 Series</td>\n",
       "      <td>2018</td>\n",
       "      <td>27000</td>\n",
       "      <td>Automatic</td>\n",
       "      <td>14827</td>\n",
       "      <td>Petrol</td>\n",
       "      <td>145</td>\n",
       "      <td>42.8</td>\n",
       "      <td>2.0</td>\n",
       "      <td>2020</td>\n",
       "      <td>Other sedans</td>\n",
       "    </tr>\n",
       "    <tr>\n",
       "      <th>2</th>\n",
       "      <td>5 Series</td>\n",
       "      <td>2016</td>\n",
       "      <td>16000</td>\n",
       "      <td>Automatic</td>\n",
       "      <td>62794</td>\n",
       "      <td>Diesel</td>\n",
       "      <td>160</td>\n",
       "      <td>51.4</td>\n",
       "      <td>3.0</td>\n",
       "      <td>2020</td>\n",
       "      <td>5 Series</td>\n",
       "    </tr>\n",
       "    <tr>\n",
       "      <th>3</th>\n",
       "      <td>1 Series</td>\n",
       "      <td>2017</td>\n",
       "      <td>12750</td>\n",
       "      <td>Automatic</td>\n",
       "      <td>26676</td>\n",
       "      <td>Diesel</td>\n",
       "      <td>145</td>\n",
       "      <td>72.4</td>\n",
       "      <td>1.5</td>\n",
       "      <td>2020</td>\n",
       "      <td>1 Series</td>\n",
       "    </tr>\n",
       "    <tr>\n",
       "      <th>4</th>\n",
       "      <td>7 Series</td>\n",
       "      <td>2014</td>\n",
       "      <td>14500</td>\n",
       "      <td>Automatic</td>\n",
       "      <td>39554</td>\n",
       "      <td>Diesel</td>\n",
       "      <td>160</td>\n",
       "      <td>50.4</td>\n",
       "      <td>3.0</td>\n",
       "      <td>2015</td>\n",
       "      <td>Other sedans</td>\n",
       "    </tr>\n",
       "  </tbody>\n",
       "</table>\n",
       "</div>"
      ],
      "text/plain": [
       "       model  year  price transmission  mileage fuelType  tax   mpg  \\\n",
       "0   5 Series  2014  11200    Automatic    67068   Diesel  125  57.6   \n",
       "1   6 Series  2018  27000    Automatic    14827   Petrol  145  42.8   \n",
       "2   5 Series  2016  16000    Automatic    62794   Diesel  160  51.4   \n",
       "3   1 Series  2017  12750    Automatic    26676   Diesel  145  72.4   \n",
       "4   7 Series  2014  14500    Automatic    39554   Diesel  160  50.4   \n",
       "\n",
       "   engineSize  periods       category  \n",
       "0         2.0     2015       5 Series  \n",
       "1         2.0     2020   Other sedans  \n",
       "2         3.0     2020       5 Series  \n",
       "3         1.5     2020       1 Series  \n",
       "4         3.0     2015   Other sedans  "
      ]
     },
     "execution_count": 681,
     "metadata": {},
     "output_type": "execute_result"
    }
   ],
   "source": [
    "model_dict = {' 1 Series': (' 1 Series'),\n",
    "              ' 2 Series': (' 2 Series'),\n",
    "              ' 3 Series': (' 3 Series'),\n",
    "              ' 4 Series': (' 4 Series'),\n",
    "              ' 5 Series': (' 5 Series'),\n",
    "              ' Other sedans': (' 6 Series', ' 7 Series', ' 8 Series'),\n",
    "               'SUV': (' X1', ' X2', ' X3', ' X4', ' X5', ' X6', ' X7'),\n",
    "               'M Series': (' M2', ' M3', ' M4', ' M5', ' M6'),\n",
    "               'Z Series': (' Z3', ' Z4'),\n",
    "               'I Series': (' i3', ' i8')\n",
    "             }\n",
    "\n",
    "models = []\n",
    "\n",
    "for model in df['model']:\n",
    "    for key, value in model_dict.items():\n",
    "        if model in value:\n",
    "            models.append(key)\n",
    "\n",
    "df['category'] = models\n",
    "df.head()"
   ]
  },
  {
   "cell_type": "code",
   "execution_count": 682,
   "metadata": {},
   "outputs": [
    {
     "data": {
      "text/plain": [
       "{' 5 Series': 1056,\n",
       " ' Other sedans': 253,\n",
       " ' 1 Series': 1969,\n",
       " ' 2 Series': 1229,\n",
       " ' 4 Series': 995,\n",
       " 'SUV': 2451,\n",
       " ' 3 Series': 2443,\n",
       " 'I Series': 60,\n",
       " 'M Series': 210,\n",
       " 'Z Series': 115}"
      ]
     },
     "execution_count": 682,
     "metadata": {},
     "output_type": "execute_result"
    }
   ],
   "source": [
    "cnt_models = Counter(df['category'])\n",
    "cnt_models = dict(cnt_models)\n",
    "cnt_models"
   ]
  },
  {
   "cell_type": "code",
   "execution_count": 683,
   "metadata": {},
   "outputs": [
    {
     "data": {
      "image/png": "[encoded data removed]",
      "text/plain": [
       "<Figure size 576x576 with 1 Axes>"
      ]
     },
     "metadata": {},
     "output_type": "display_data"
    }
   ],
   "source": [
    "fig1, ax1 = plt.subplots()\n",
    "ax1.pie(cnt_models.values(), labels=cnt_models.keys(), autopct='%1.1f%%')\n",
    "ax1.axis('equal') \n",
    "ax1.legend(loc='upper left', bbox_to_anchor=(1.2, 1.0))\n",
    "fig = plt.gcf()\n",
    "fig.set_size_inches(8,8)\n",
    "plt.show()"
   ]
  },
  {
   "cell_type": "markdown",
   "metadata": {},
   "source": [
    "#### Transmission"
   ]
  },
  {
   "cell_type": "code",
   "execution_count": 684,
   "metadata": {},
   "outputs": [
    {
     "data": {
      "text/plain": [
       "array(['Automatic', 'Manual', 'Semi-Auto'], dtype=object)"
      ]
     },
     "execution_count": 684,
     "metadata": {},
     "output_type": "execute_result"
    }
   ],
   "source": [
    "df['transmission'].unique()"
   ]
  },
  {
   "cell_type": "code",
   "execution_count": 685,
   "metadata": {},
   "outputs": [
    {
     "data": {
      "text/plain": [
       "{'Automatic': 3588, 'Manual': 2527, 'Semi-Auto': 4666}"
      ]
     },
     "execution_count": 685,
     "metadata": {},
     "output_type": "execute_result"
    }
   ],
   "source": [
    "cnt_transmission = Counter(df['transmission'])\n",
    "cnt_transmission = dict(cnt_transmission)\n",
    "cnt_transmission"
   ]
  },
  {
   "cell_type": "code",
   "execution_count": 686,
   "metadata": {},
   "outputs": [
    {
     "data": {
      "image/png": "[encoded data removed]",
      "text/plain": [
       "<Figure size 288x288 with 1 Axes>"
      ]
     },
     "metadata": {},
     "output_type": "display_data"
    }
   ],
   "source": [
    "fig1, ax1 = plt.subplots()\n",
    "ax1.pie(cnt_transmission.values(), labels=cnt_transmission.keys(), autopct='%1.1f%%')\n",
    "ax1.axis('equal') \n",
    "ax1.legend(loc='upper left', bbox_to_anchor=(1.2, 1.0))\n",
    "fig = plt.gcf()\n",
    "fig.set_size_inches(4,4)\n",
    "plt.show()"
   ]
  },
  {
   "cell_type": "markdown",
   "metadata": {},
   "source": [
    "Распределение машин по видам коробки передач относительно равномерно: автоматическая коробка передач - 33.3%, полуавтомат - 43.3%, ручная 23.4%"
   ]
  },
  {
   "cell_type": "markdown",
   "metadata": {},
   "source": [
    "#### Mileage"
   ]
  },
  {
   "cell_type": "code",
   "execution_count": 687,
   "metadata": {},
   "outputs": [
    {
     "data": {
      "text/plain": [
       "count     10781.000000\n",
       "mean      25496.986550\n",
       "std       25143.192559\n",
       "min           1.000000\n",
       "25%        5529.000000\n",
       "50%       18347.000000\n",
       "75%       38206.000000\n",
       "max      214000.000000\n",
       "Name: mileage, dtype: float64"
      ]
     },
     "execution_count": 687,
     "metadata": {},
     "output_type": "execute_result"
    }
   ],
   "source": [
    "df['mileage'].describe()"
   ]
  },
  {
   "cell_type": "markdown",
   "metadata": {},
   "source": [
    "Минимальный пробег - 1 миля, максимальный - 214000 миль. Средний пробег по всей базе 25.5 тыс. миль. 25% машин в базе имеют пробег менее 5600 миль. и более половины машин имеют пробег более 18 тыс. миль."
   ]
  },
  {
   "cell_type": "markdown",
   "metadata": {},
   "source": [
    "На всякий случай проверим переменную на наличие выбросов:"
   ]
  },
  {
   "cell_type": "code",
   "execution_count": 688,
   "metadata": {},
   "outputs": [
    {
     "data": {
      "image/png": "[encoded data removed]",
      "text/plain": [
       "<Figure size 1296x864 with 1 Axes>"
      ]
     },
     "metadata": {},
     "output_type": "display_data"
    }
   ],
   "source": [
    "plt.boxplot(df['mileage'])\n",
    "plt.show()"
   ]
  },
  {
   "cell_type": "code",
   "execution_count": 689,
   "metadata": {},
   "outputs": [
    {
     "data": {
      "text/html": [
       "<div>\n",
       "<style scoped>\n",
       "    .dataframe tbody tr th:only-of-type {\n",
       "        vertical-align: middle;\n",
       "    }\n",
       "\n",
       "    .dataframe tbody tr th {\n",
       "        vertical-align: top;\n",
       "    }\n",
       "\n",
       "    .dataframe thead th {\n",
       "        text-align: right;\n",
       "    }\n",
       "</style>\n",
       "<table border=\"1\" class=\"dataframe\">\n",
       "  <thead>\n",
       "    <tr style=\"text-align: right;\">\n",
       "      <th></th>\n",
       "      <th>model</th>\n",
       "      <th>year</th>\n",
       "      <th>price</th>\n",
       "      <th>transmission</th>\n",
       "      <th>mileage</th>\n",
       "      <th>fuelType</th>\n",
       "      <th>tax</th>\n",
       "      <th>mpg</th>\n",
       "      <th>engineSize</th>\n",
       "      <th>periods</th>\n",
       "      <th>category</th>\n",
       "    </tr>\n",
       "  </thead>\n",
       "  <tbody>\n",
       "    <tr>\n",
       "      <th>2309</th>\n",
       "      <td>2 Series</td>\n",
       "      <td>2019</td>\n",
       "      <td>23940</td>\n",
       "      <td>Semi-Auto</td>\n",
       "      <td>9</td>\n",
       "      <td>Diesel</td>\n",
       "      <td>145</td>\n",
       "      <td>62.8</td>\n",
       "      <td>2.0</td>\n",
       "      <td>2020</td>\n",
       "      <td>2 Series</td>\n",
       "    </tr>\n",
       "    <tr>\n",
       "      <th>2843</th>\n",
       "      <td>4 Series</td>\n",
       "      <td>2019</td>\n",
       "      <td>23750</td>\n",
       "      <td>Semi-Auto</td>\n",
       "      <td>9</td>\n",
       "      <td>Diesel</td>\n",
       "      <td>145</td>\n",
       "      <td>65.7</td>\n",
       "      <td>2.0</td>\n",
       "      <td>2020</td>\n",
       "      <td>4 Series</td>\n",
       "    </tr>\n",
       "    <tr>\n",
       "      <th>4058</th>\n",
       "      <td>X1</td>\n",
       "      <td>2019</td>\n",
       "      <td>32495</td>\n",
       "      <td>Automatic</td>\n",
       "      <td>6</td>\n",
       "      <td>Diesel</td>\n",
       "      <td>145</td>\n",
       "      <td>52.3</td>\n",
       "      <td>2.0</td>\n",
       "      <td>2020</td>\n",
       "      <td>SUV</td>\n",
       "    </tr>\n",
       "    <tr>\n",
       "      <th>4135</th>\n",
       "      <td>3 Series</td>\n",
       "      <td>2019</td>\n",
       "      <td>30495</td>\n",
       "      <td>Automatic</td>\n",
       "      <td>8</td>\n",
       "      <td>Diesel</td>\n",
       "      <td>145</td>\n",
       "      <td>50.4</td>\n",
       "      <td>2.0</td>\n",
       "      <td>2020</td>\n",
       "      <td>3 Series</td>\n",
       "    </tr>\n",
       "    <tr>\n",
       "      <th>4398</th>\n",
       "      <td>5 Series</td>\n",
       "      <td>2019</td>\n",
       "      <td>28380</td>\n",
       "      <td>Semi-Auto</td>\n",
       "      <td>6</td>\n",
       "      <td>Diesel</td>\n",
       "      <td>145</td>\n",
       "      <td>65.7</td>\n",
       "      <td>2.0</td>\n",
       "      <td>2020</td>\n",
       "      <td>5 Series</td>\n",
       "    </tr>\n",
       "    <tr>\n",
       "      <th>4920</th>\n",
       "      <td>3 Series</td>\n",
       "      <td>2019</td>\n",
       "      <td>28990</td>\n",
       "      <td>Semi-Auto</td>\n",
       "      <td>6</td>\n",
       "      <td>Petrol</td>\n",
       "      <td>145</td>\n",
       "      <td>42.2</td>\n",
       "      <td>2.0</td>\n",
       "      <td>2020</td>\n",
       "      <td>3 Series</td>\n",
       "    </tr>\n",
       "    <tr>\n",
       "      <th>5360</th>\n",
       "      <td>3 Series</td>\n",
       "      <td>2019</td>\n",
       "      <td>33134</td>\n",
       "      <td>Semi-Auto</td>\n",
       "      <td>5</td>\n",
       "      <td>Diesel</td>\n",
       "      <td>145</td>\n",
       "      <td>52.3</td>\n",
       "      <td>2.0</td>\n",
       "      <td>2020</td>\n",
       "      <td>3 Series</td>\n",
       "    </tr>\n",
       "    <tr>\n",
       "      <th>5652</th>\n",
       "      <td>3 Series</td>\n",
       "      <td>2019</td>\n",
       "      <td>31990</td>\n",
       "      <td>Automatic</td>\n",
       "      <td>5</td>\n",
       "      <td>Petrol</td>\n",
       "      <td>145</td>\n",
       "      <td>42.2</td>\n",
       "      <td>2.0</td>\n",
       "      <td>2020</td>\n",
       "      <td>3 Series</td>\n",
       "    </tr>\n",
       "    <tr>\n",
       "      <th>5913</th>\n",
       "      <td>X5</td>\n",
       "      <td>2019</td>\n",
       "      <td>73000</td>\n",
       "      <td>Automatic</td>\n",
       "      <td>5</td>\n",
       "      <td>Hybrid</td>\n",
       "      <td>135</td>\n",
       "      <td>188.3</td>\n",
       "      <td>3.0</td>\n",
       "      <td>2020</td>\n",
       "      <td>SUV</td>\n",
       "    </tr>\n",
       "  </tbody>\n",
       "</table>\n",
       "</div>"
      ],
      "text/plain": [
       "          model  year  price transmission  mileage fuelType  tax    mpg  \\\n",
       "2309   2 Series  2019  23940    Semi-Auto        9   Diesel  145   62.8   \n",
       "2843   4 Series  2019  23750    Semi-Auto        9   Diesel  145   65.7   \n",
       "4058         X1  2019  32495    Automatic        6   Diesel  145   52.3   \n",
       "4135   3 Series  2019  30495    Automatic        8   Diesel  145   50.4   \n",
       "4398   5 Series  2019  28380    Semi-Auto        6   Diesel  145   65.7   \n",
       "4920   3 Series  2019  28990    Semi-Auto        6   Petrol  145   42.2   \n",
       "5360   3 Series  2019  33134    Semi-Auto        5   Diesel  145   52.3   \n",
       "5652   3 Series  2019  31990    Automatic        5   Petrol  145   42.2   \n",
       "5913         X5  2019  73000    Automatic        5   Hybrid  135  188.3   \n",
       "\n",
       "      engineSize  periods   category  \n",
       "2309         2.0     2020   2 Series  \n",
       "2843         2.0     2020   4 Series  \n",
       "4058         2.0     2020        SUV  \n",
       "4135         2.0     2020   3 Series  \n",
       "4398         2.0     2020   5 Series  \n",
       "4920         2.0     2020   3 Series  \n",
       "5360         2.0     2020   3 Series  \n",
       "5652         2.0     2020   3 Series  \n",
       "5913         3.0     2020        SUV  "
      ]
     },
     "execution_count": 689,
     "metadata": {},
     "output_type": "execute_result"
    }
   ],
   "source": [
    "df.loc[(df['mileage'] < 10) & (df['year'] != 2020)]"
   ]
  },
  {
   "cell_type": "code",
   "execution_count": 690,
   "metadata": {},
   "outputs": [
    {
     "data": {
      "text/html": [
       "<div>\n",
       "<style scoped>\n",
       "    .dataframe tbody tr th:only-of-type {\n",
       "        vertical-align: middle;\n",
       "    }\n",
       "\n",
       "    .dataframe tbody tr th {\n",
       "        vertical-align: top;\n",
       "    }\n",
       "\n",
       "    .dataframe thead th {\n",
       "        text-align: right;\n",
       "    }\n",
       "</style>\n",
       "<table border=\"1\" class=\"dataframe\">\n",
       "  <thead>\n",
       "    <tr style=\"text-align: right;\">\n",
       "      <th></th>\n",
       "      <th>model</th>\n",
       "      <th>year</th>\n",
       "      <th>price</th>\n",
       "      <th>transmission</th>\n",
       "      <th>mileage</th>\n",
       "      <th>fuelType</th>\n",
       "      <th>tax</th>\n",
       "      <th>mpg</th>\n",
       "      <th>engineSize</th>\n",
       "      <th>periods</th>\n",
       "      <th>category</th>\n",
       "    </tr>\n",
       "  </thead>\n",
       "  <tbody>\n",
       "    <tr>\n",
       "      <th>8313</th>\n",
       "      <td>3 Series</td>\n",
       "      <td>2011</td>\n",
       "      <td>3493</td>\n",
       "      <td>Manual</td>\n",
       "      <td>190000</td>\n",
       "      <td>Diesel</td>\n",
       "      <td>20</td>\n",
       "      <td>68.9</td>\n",
       "      <td>2.0</td>\n",
       "      <td>2015</td>\n",
       "      <td>3 Series</td>\n",
       "    </tr>\n",
       "    <tr>\n",
       "      <th>8925</th>\n",
       "      <td>3 Series</td>\n",
       "      <td>2010</td>\n",
       "      <td>3800</td>\n",
       "      <td>Manual</td>\n",
       "      <td>156800</td>\n",
       "      <td>Diesel</td>\n",
       "      <td>125</td>\n",
       "      <td>58.9</td>\n",
       "      <td>2.0</td>\n",
       "      <td>2010</td>\n",
       "      <td>3 Series</td>\n",
       "    </tr>\n",
       "    <tr>\n",
       "      <th>9216</th>\n",
       "      <td>3 Series</td>\n",
       "      <td>2014</td>\n",
       "      <td>9000</td>\n",
       "      <td>Automatic</td>\n",
       "      <td>155790</td>\n",
       "      <td>Diesel</td>\n",
       "      <td>145</td>\n",
       "      <td>54.3</td>\n",
       "      <td>3.0</td>\n",
       "      <td>2015</td>\n",
       "      <td>3 Series</td>\n",
       "    </tr>\n",
       "    <tr>\n",
       "      <th>9414</th>\n",
       "      <td>5 Series</td>\n",
       "      <td>2013</td>\n",
       "      <td>8999</td>\n",
       "      <td>Automatic</td>\n",
       "      <td>178987</td>\n",
       "      <td>Hybrid</td>\n",
       "      <td>190</td>\n",
       "      <td>40.4</td>\n",
       "      <td>3.0</td>\n",
       "      <td>2015</td>\n",
       "      <td>5 Series</td>\n",
       "    </tr>\n",
       "    <tr>\n",
       "      <th>9419</th>\n",
       "      <td>X5</td>\n",
       "      <td>2012</td>\n",
       "      <td>7250</td>\n",
       "      <td>Automatic</td>\n",
       "      <td>214000</td>\n",
       "      <td>Diesel</td>\n",
       "      <td>300</td>\n",
       "      <td>37.7</td>\n",
       "      <td>3.0</td>\n",
       "      <td>2015</td>\n",
       "      <td>SUV</td>\n",
       "    </tr>\n",
       "    <tr>\n",
       "      <th>9554</th>\n",
       "      <td>1 Series</td>\n",
       "      <td>2007</td>\n",
       "      <td>1500</td>\n",
       "      <td>Manual</td>\n",
       "      <td>167000</td>\n",
       "      <td>Diesel</td>\n",
       "      <td>125</td>\n",
       "      <td>57.6</td>\n",
       "      <td>2.0</td>\n",
       "      <td>2010</td>\n",
       "      <td>1 Series</td>\n",
       "    </tr>\n",
       "    <tr>\n",
       "      <th>9696</th>\n",
       "      <td>3 Series</td>\n",
       "      <td>2004</td>\n",
       "      <td>1445</td>\n",
       "      <td>Manual</td>\n",
       "      <td>162000</td>\n",
       "      <td>Diesel</td>\n",
       "      <td>205</td>\n",
       "      <td>49.6</td>\n",
       "      <td>2.0</td>\n",
       "      <td>2010</td>\n",
       "      <td>3 Series</td>\n",
       "    </tr>\n",
       "    <tr>\n",
       "      <th>10004</th>\n",
       "      <td>5 Series</td>\n",
       "      <td>2010</td>\n",
       "      <td>6980</td>\n",
       "      <td>Automatic</td>\n",
       "      <td>164500</td>\n",
       "      <td>Diesel</td>\n",
       "      <td>140</td>\n",
       "      <td>53.3</td>\n",
       "      <td>2.0</td>\n",
       "      <td>2010</td>\n",
       "      <td>5 Series</td>\n",
       "    </tr>\n",
       "  </tbody>\n",
       "</table>\n",
       "</div>"
      ],
      "text/plain": [
       "           model  year  price transmission  mileage fuelType  tax   mpg  \\\n",
       "8313    3 Series  2011   3493       Manual   190000   Diesel   20  68.9   \n",
       "8925    3 Series  2010   3800       Manual   156800   Diesel  125  58.9   \n",
       "9216    3 Series  2014   9000    Automatic   155790   Diesel  145  54.3   \n",
       "9414    5 Series  2013   8999    Automatic   178987   Hybrid  190  40.4   \n",
       "9419          X5  2012   7250    Automatic   214000   Diesel  300  37.7   \n",
       "9554    1 Series  2007   1500       Manual   167000   Diesel  125  57.6   \n",
       "9696    3 Series  2004   1445       Manual   162000   Diesel  205  49.6   \n",
       "10004   5 Series  2010   6980    Automatic   164500   Diesel  140  53.3   \n",
       "\n",
       "       engineSize  periods   category  \n",
       "8313          2.0     2015   3 Series  \n",
       "8925          2.0     2010   3 Series  \n",
       "9216          3.0     2015   3 Series  \n",
       "9414          3.0     2015   5 Series  \n",
       "9419          3.0     2015        SUV  \n",
       "9554          2.0     2010   1 Series  \n",
       "9696          2.0     2010   3 Series  \n",
       "10004         2.0     2010   5 Series  "
      ]
     },
     "execution_count": 690,
     "metadata": {},
     "output_type": "execute_result"
    }
   ],
   "source": [
    "df.loc[(df['mileage'] > 150000)]"
   ]
  },
  {
   "cell_type": "markdown",
   "metadata": {},
   "source": [
    "Крайние значения адекватны. Ошибок нет."
   ]
  },
  {
   "cell_type": "markdown",
   "metadata": {},
   "source": [
    "#### FuelType"
   ]
  },
  {
   "cell_type": "code",
   "execution_count": 691,
   "metadata": {},
   "outputs": [
    {
     "data": {
      "text/plain": [
       "(array(['Diesel', 'Petrol', 'Other', 'Hybrid', 'Electric'], dtype=object), 5)"
      ]
     },
     "execution_count": 691,
     "metadata": {},
     "output_type": "execute_result"
    }
   ],
   "source": [
    "df['fuelType'].unique(), len(df['fuelType'].unique())"
   ]
  },
  {
   "cell_type": "code",
   "execution_count": 692,
   "metadata": {},
   "outputs": [
    {
     "data": {
      "text/plain": [
       "{'Diesel': 7027, 'Petrol': 3417, 'Other': 36, 'Hybrid': 298, 'Electric': 3}"
      ]
     },
     "execution_count": 692,
     "metadata": {},
     "output_type": "execute_result"
    }
   ],
   "source": [
    "cnt_fuel = Counter(df['fuelType'])\n",
    "cnt_fuel = dict(cnt_fuel)\n",
    "cnt_fuel"
   ]
  },
  {
   "cell_type": "code",
   "execution_count": 693,
   "metadata": {
    "scrolled": true
   },
   "outputs": [
    {
     "data": {
      "image/png": "[encoded data removed]",
      "text/plain": [
       "<Figure size 432x432 with 1 Axes>"
      ]
     },
     "metadata": {},
     "output_type": "display_data"
    }
   ],
   "source": [
    "fig1, ax1 = plt.subplots()\n",
    "ax1.pie(cnt_fuel.values(), labels=cnt_fuel.keys(), autopct='%1.1f%%')\n",
    "ax1.axis('equal') \n",
    "ax1.legend(loc='upper left', bbox_to_anchor=(1.2, 1.0))\n",
    "fig = plt.gcf()\n",
    "fig.set_size_inches(6,6)\n",
    "plt.show()"
   ]
  },
  {
   "cell_type": "markdown",
   "metadata": {},
   "source": [
    "На долю автомобилей с дизельным двигателем приходится 65.2% записей, бензиновым 31.7%. На все остальные виды топлива приходится чуть более 3% записей."
   ]
  },
  {
   "cell_type": "markdown",
   "metadata": {},
   "source": [
    "#### EngineSize"
   ]
  },
  {
   "cell_type": "code",
   "execution_count": 694,
   "metadata": {},
   "outputs": [
    {
     "data": {
      "text/plain": [
       "count    10781.000000\n",
       "mean         2.167767\n",
       "std          0.552054\n",
       "min          0.000000\n",
       "25%          2.000000\n",
       "50%          2.000000\n",
       "75%          2.000000\n",
       "max          6.600000\n",
       "Name: engineSize, dtype: float64"
      ]
     },
     "execution_count": 694,
     "metadata": {},
     "output_type": "execute_result"
    }
   ],
   "source": [
    "df['engineSize'].describe()"
   ]
  },
  {
   "cell_type": "code",
   "execution_count": 695,
   "metadata": {},
   "outputs": [
    {
     "data": {
      "text/plain": [
       "0    2.0\n",
       "dtype: float64"
      ]
     },
     "execution_count": 695,
     "metadata": {},
     "output_type": "execute_result"
    }
   ],
   "source": [
    "df['engineSize'].mode()"
   ]
  },
  {
   "cell_type": "code",
   "execution_count": 696,
   "metadata": {},
   "outputs": [
    {
     "data": {
      "text/plain": [
       "(array([2. , 3. , 1.5, 0.6, 1.6, 4.4, 0. , 2.2, 2.5, 4. , 3.2, 1. , 5. ,\n",
       "        1.9, 6.6, 2.8, 3.5]),\n",
       " 17)"
      ]
     },
     "execution_count": 696,
     "metadata": {},
     "output_type": "execute_result"
    }
   ],
   "source": [
    "df['engineSize'].unique(), len(df['engineSize'].unique())"
   ]
  },
  {
   "cell_type": "code",
   "execution_count": 697,
   "metadata": {},
   "outputs": [
    {
     "data": {
      "text/plain": [
       "0.0      47\n",
       "0.6       7\n",
       "1.0       1\n",
       "1.5    1463\n",
       "1.6     109\n",
       "1.9       5\n",
       "2.0    6575\n",
       "2.2       6\n",
       "2.5      14\n",
       "2.8       2\n",
       "3.0    2458\n",
       "3.2       5\n",
       "3.5       1\n",
       "4.0       6\n",
       "4.4      79\n",
       "5.0       1\n",
       "6.6       2\n",
       "Name: engineSize, dtype: int64"
      ]
     },
     "execution_count": 697,
     "metadata": {},
     "output_type": "execute_result"
    }
   ],
   "source": [
    "df['engineSize'].value_counts().sort_index(ascending=True)"
   ]
  },
  {
   "cell_type": "code",
   "execution_count": 698,
   "metadata": {},
   "outputs": [
    {
     "data": {
      "text/html": [
       "<div>\n",
       "<style scoped>\n",
       "    .dataframe tbody tr th:only-of-type {\n",
       "        vertical-align: middle;\n",
       "    }\n",
       "\n",
       "    .dataframe tbody tr th {\n",
       "        vertical-align: top;\n",
       "    }\n",
       "\n",
       "    .dataframe thead th {\n",
       "        text-align: right;\n",
       "    }\n",
       "</style>\n",
       "<table border=\"1\" class=\"dataframe\">\n",
       "  <thead>\n",
       "    <tr style=\"text-align: right;\">\n",
       "      <th></th>\n",
       "      <th>model</th>\n",
       "      <th>year</th>\n",
       "      <th>price</th>\n",
       "      <th>transmission</th>\n",
       "      <th>mileage</th>\n",
       "      <th>fuelType</th>\n",
       "      <th>tax</th>\n",
       "      <th>mpg</th>\n",
       "      <th>engineSize</th>\n",
       "      <th>periods</th>\n",
       "      <th>category</th>\n",
       "      <th>engines</th>\n",
       "    </tr>\n",
       "  </thead>\n",
       "  <tbody>\n",
       "    <tr>\n",
       "      <th>0</th>\n",
       "      <td>5 Series</td>\n",
       "      <td>2014</td>\n",
       "      <td>11200</td>\n",
       "      <td>Automatic</td>\n",
       "      <td>67068</td>\n",
       "      <td>Diesel</td>\n",
       "      <td>125</td>\n",
       "      <td>57.6</td>\n",
       "      <td>2.0</td>\n",
       "      <td>2015</td>\n",
       "      <td>5 Series</td>\n",
       "      <td>2.0</td>\n",
       "    </tr>\n",
       "    <tr>\n",
       "      <th>1</th>\n",
       "      <td>6 Series</td>\n",
       "      <td>2018</td>\n",
       "      <td>27000</td>\n",
       "      <td>Automatic</td>\n",
       "      <td>14827</td>\n",
       "      <td>Petrol</td>\n",
       "      <td>145</td>\n",
       "      <td>42.8</td>\n",
       "      <td>2.0</td>\n",
       "      <td>2020</td>\n",
       "      <td>Other sedans</td>\n",
       "      <td>2.0</td>\n",
       "    </tr>\n",
       "    <tr>\n",
       "      <th>2</th>\n",
       "      <td>5 Series</td>\n",
       "      <td>2016</td>\n",
       "      <td>16000</td>\n",
       "      <td>Automatic</td>\n",
       "      <td>62794</td>\n",
       "      <td>Diesel</td>\n",
       "      <td>160</td>\n",
       "      <td>51.4</td>\n",
       "      <td>3.0</td>\n",
       "      <td>2020</td>\n",
       "      <td>5 Series</td>\n",
       "      <td>3.0</td>\n",
       "    </tr>\n",
       "    <tr>\n",
       "      <th>3</th>\n",
       "      <td>1 Series</td>\n",
       "      <td>2017</td>\n",
       "      <td>12750</td>\n",
       "      <td>Automatic</td>\n",
       "      <td>26676</td>\n",
       "      <td>Diesel</td>\n",
       "      <td>145</td>\n",
       "      <td>72.4</td>\n",
       "      <td>1.5</td>\n",
       "      <td>2020</td>\n",
       "      <td>1 Series</td>\n",
       "      <td>1.5</td>\n",
       "    </tr>\n",
       "    <tr>\n",
       "      <th>4</th>\n",
       "      <td>7 Series</td>\n",
       "      <td>2014</td>\n",
       "      <td>14500</td>\n",
       "      <td>Automatic</td>\n",
       "      <td>39554</td>\n",
       "      <td>Diesel</td>\n",
       "      <td>160</td>\n",
       "      <td>50.4</td>\n",
       "      <td>3.0</td>\n",
       "      <td>2015</td>\n",
       "      <td>Other sedans</td>\n",
       "      <td>3.0</td>\n",
       "    </tr>\n",
       "  </tbody>\n",
       "</table>\n",
       "</div>"
      ],
      "text/plain": [
       "       model  year  price transmission  mileage fuelType  tax   mpg  \\\n",
       "0   5 Series  2014  11200    Automatic    67068   Diesel  125  57.6   \n",
       "1   6 Series  2018  27000    Automatic    14827   Petrol  145  42.8   \n",
       "2   5 Series  2016  16000    Automatic    62794   Diesel  160  51.4   \n",
       "3   1 Series  2017  12750    Automatic    26676   Diesel  145  72.4   \n",
       "4   7 Series  2014  14500    Automatic    39554   Diesel  160  50.4   \n",
       "\n",
       "   engineSize  periods       category  engines  \n",
       "0         2.0     2015       5 Series      2.0  \n",
       "1         2.0     2020   Other sedans      2.0  \n",
       "2         3.0     2020       5 Series      3.0  \n",
       "3         1.5     2020       1 Series      1.5  \n",
       "4         3.0     2015   Other sedans      3.0  "
      ]
     },
     "execution_count": 698,
     "metadata": {},
     "output_type": "execute_result"
    }
   ],
   "source": [
    "engine_dict = {1.5: (0.0, 0.6, 1.0, 1.5),\n",
    "               2.0: (1.6, 1.6, 1.9, 2.0),\n",
    "               3.0: (2.1, 2.2, 2.5, 2.8, 3.0, 3.2, 3.5, 4.0, 4.4, 5.0, 6.6)}\n",
    "\n",
    "engines = []\n",
    "\n",
    "for engine in df['engineSize']:\n",
    "    for key, value in engine_dict.items():\n",
    "        if engine in value:\n",
    "            engines.append(key)\n",
    "\n",
    "df['engines'] = engines\n",
    "df.head()"
   ]
  },
  {
   "cell_type": "code",
   "execution_count": 699,
   "metadata": {},
   "outputs": [
    {
     "data": {
      "text/plain": [
       "{2.0: 6689, 3.0: 2574, 1.5: 1518}"
      ]
     },
     "execution_count": 699,
     "metadata": {},
     "output_type": "execute_result"
    }
   ],
   "source": [
    "cnt_engine = Counter(df['engines'])\n",
    "cnt_engine = dict(cnt_engine)\n",
    "cnt_engine"
   ]
  },
  {
   "cell_type": "code",
   "execution_count": 700,
   "metadata": {},
   "outputs": [
    {
     "data": {
      "image/png": "[encoded data removed]",
      "text/plain": [
       "<Figure size 360x360 with 1 Axes>"
      ]
     },
     "metadata": {},
     "output_type": "display_data"
    }
   ],
   "source": [
    "fig1, ax1 = plt.subplots()\n",
    "ax1.pie(cnt_engine.values(), labels=cnt_engine.keys(), autopct='%1.1f%%')\n",
    "ax1.axis('equal') \n",
    "ax1.legend(loc='upper left', bbox_to_anchor=(1.2, 1.0))\n",
    "fig = plt.gcf()\n",
    "fig.set_size_inches(5,5)\n",
    "plt.show()"
   ]
  },
  {
   "cell_type": "code",
   "execution_count": 701,
   "metadata": {},
   "outputs": [
    {
     "data": {
      "text/plain": [
       "1.5    1518\n",
       "2.0    6689\n",
       "3.0    2574\n",
       "Name: engines, dtype: int64"
      ]
     },
     "execution_count": 701,
     "metadata": {},
     "output_type": "execute_result"
    }
   ],
   "source": [
    "df['engines'].value_counts().sort_index(ascending=True)"
   ]
  },
  {
   "cell_type": "code",
   "execution_count": 702,
   "metadata": {},
   "outputs": [
    {
     "data": {
      "text/plain": [
       " i3          35\n",
       " 1 Series     5\n",
       " 3 Series     4\n",
       " 2 Series     2\n",
       " X5           1\n",
       "Name: model, dtype: int64"
      ]
     },
     "execution_count": 702,
     "metadata": {},
     "output_type": "execute_result"
    }
   ],
   "source": [
    "df['model'].loc[(df['engineSize'] == 0)].value_counts()"
   ]
  },
  {
   "cell_type": "markdown",
   "metadata": {},
   "source": [
    "Максимальный размер двигателя в представленном датасете - 6.6 л. Таких машин 2. Минимальный - 0. Таких машин 47, из них 35 - это электрокары, а остальные - некорректно указанный размер двигателя. Чаще всего встречается двигатель размером 2 л. 14.1% машин в базе имеют двигатель объемом не более 1.5л, 62.% - от 1.6 до 2, а 23.9% - свыше 2 л."
   ]
  },
  {
   "cell_type": "markdown",
   "metadata": {},
   "source": [
    "#### Tax"
   ]
  },
  {
   "cell_type": "code",
   "execution_count": 703,
   "metadata": {},
   "outputs": [
    {
     "data": {
      "text/plain": [
       "count    10781.000000\n",
       "mean       131.702068\n",
       "std         61.510755\n",
       "min          0.000000\n",
       "25%        135.000000\n",
       "50%        145.000000\n",
       "75%        145.000000\n",
       "max        580.000000\n",
       "Name: tax, dtype: float64"
      ]
     },
     "execution_count": 703,
     "metadata": {},
     "output_type": "execute_result"
    }
   ],
   "source": [
    "df['tax'].describe()"
   ]
  },
  {
   "cell_type": "code",
   "execution_count": 704,
   "metadata": {},
   "outputs": [
    {
     "data": {
      "text/plain": [
       "0    145\n",
       "dtype: int64"
      ]
     },
     "execution_count": 704,
     "metadata": {},
     "output_type": "execute_result"
    }
   ],
   "source": [
    "df['tax'].mode()"
   ]
  },
  {
   "cell_type": "code",
   "execution_count": 705,
   "metadata": {},
   "outputs": [
    {
     "data": {
      "text/plain": [
       "(array([125, 145, 160,  30,  20, 135,   0, 165, 200, 150, 205, 300, 140,\n",
       "        235, 260, 305, 265, 555, 325, 570, 240, 565, 330, 110, 195, 185,\n",
       "        120, 540, 315, 155, 190, 250, 245, 255, 270, 580, 130, 280],\n",
       "       dtype=int64),\n",
       " 38)"
      ]
     },
     "execution_count": 705,
     "metadata": {},
     "output_type": "execute_result"
    }
   ],
   "source": [
    "df['tax'].unique(), len(df['tax'].unique())"
   ]
  },
  {
   "cell_type": "code",
   "execution_count": 706,
   "metadata": {},
   "outputs": [
    {
     "data": {
      "text/plain": [
       "<seaborn.axisgrid.FacetGrid at 0x28ed96163d0>"
      ]
     },
     "execution_count": 706,
     "metadata": {},
     "output_type": "execute_result"
    },
    {
     "data": {
      "image/png": "[encoded data removed]",
      "text/plain": [
       "<Figure size 615.85x360 with 1 Axes>"
      ]
     },
     "metadata": {},
     "output_type": "display_data"
    }
   ],
   "source": [
    "grid = sns.FacetGrid(df, hue=\"fuelType\", height = 5, aspect = 1.5)\n",
    "grid.map(sns.scatterplot, \"engines\", \"tax\")\n",
    "grid.add_legend(loc='upper left', bbox_to_anchor=(1.0, 1.0))"
   ]
  },
  {
   "cell_type": "code",
   "execution_count": 707,
   "metadata": {},
   "outputs": [
    {
     "data": {
      "image/png": "[encoded data removed]",
      "text/plain": [
       "<Figure size 1296x864 with 1 Axes>"
      ]
     },
     "metadata": {},
     "output_type": "display_data"
    }
   ],
   "source": [
    "sns.set_style('whitegrid')\n",
    "sns.boxplot(data = df , x = 'engines' , y = 'tax')\n",
    "sns.set(rc={'figure.figsize':(6, 4)})"
   ]
  },
  {
   "cell_type": "markdown",
   "metadata": {},
   "source": [
    "Не понятное для меня поле tax. Все-таки, наверное, налог. Минимальное значение 0, максимальное 580. Среднее значение 132. В базе 10781 запись, а значений tax всего 38, что говорит о том, что это присутствует некая градация значений данной переменной в отличие от значений какой-то другой. Глядя на скаттерплот, можно сделать вывод, что на бензиновый двигатель налог выше. Также есть зависимость размера налога от объема двигателя."
   ]
  },
  {
   "cell_type": "markdown",
   "metadata": {},
   "source": [
    "#### Mpg"
   ]
  },
  {
   "cell_type": "code",
   "execution_count": 708,
   "metadata": {},
   "outputs": [
    {
     "data": {
      "text/plain": [
       "count    10781.000000\n",
       "mean        56.399035\n",
       "std         31.336958\n",
       "min          5.500000\n",
       "25%         45.600000\n",
       "50%         53.300000\n",
       "75%         62.800000\n",
       "max        470.800000\n",
       "Name: mpg, dtype: float64"
      ]
     },
     "execution_count": 708,
     "metadata": {},
     "output_type": "execute_result"
    }
   ],
   "source": [
    "df['mpg'].describe()"
   ]
  },
  {
   "cell_type": "code",
   "execution_count": 709,
   "metadata": {},
   "outputs": [
    {
     "data": {
      "text/plain": [
       "0    65.7\n",
       "dtype: float64"
      ]
     },
     "execution_count": 709,
     "metadata": {},
     "output_type": "execute_result"
    }
   ],
   "source": [
    "df['mpg'].mode()"
   ]
  },
  {
   "cell_type": "code",
   "execution_count": 710,
   "metadata": {},
   "outputs": [
    {
     "data": {
      "text/plain": [
       "(array([ 57.6,  42.8,  51.4,  72.4,  50.4,  60.1,  52.3,  62.8,  68.9,\n",
       "         54.3,  58.9, 148.7,  64.2,  70.6,  83.1,  67.3,  53.3,  47.9,\n",
       "         65.7, 470.8,  39.8, 141.2,  61.4,  37.2,  47.1,  43.5,  48.7,\n",
       "         34. ,  55.4,  49.6,  74.3,  85.6, 134.5,  44.8,  55.5,  46.3,\n",
       "         44.1,  37.7, 113. ,  35.3,  78.5,  36.2,  41.5,  31.4,  39.2,\n",
       "         24.8,  34.5,  42.2,  32.5,  40.9,  38.2,  56.5,  45.6,  57.7,\n",
       "         24.1,  33.6,  40.4,  36.7,  35.8,  26.9, 156.9,  26.7,  24.4,\n",
       "         38.7,  29.1,  33.2, 135.5,  28.5,  32.1,  27.4,   5.5,  30.4,\n",
       "         26.4,  34.9,  27.2,  25.4,  31. ,   8.8,  31.7, 188.3,  32.8,\n",
       "        128.4,  23.2,  23.7,  29.7,  30.1,  28.8,  22.8,  23.3, 141.3,\n",
       "         34.4,  29.4,  19.1,  24.6,  27.7,  25.2,  22.1,  30.7,  21.9,\n",
       "         26.6,  22.6,  20.8]),\n",
       " 102)"
      ]
     },
     "execution_count": 710,
     "metadata": {},
     "output_type": "execute_result"
    }
   ],
   "source": [
    "df['mpg'].unique(), len(df['mpg'].unique())"
   ]
  },
  {
   "cell_type": "code",
   "execution_count": 711,
   "metadata": {},
   "outputs": [
    {
     "data": {
      "text/html": [
       "<div>\n",
       "<style scoped>\n",
       "    .dataframe tbody tr th:only-of-type {\n",
       "        vertical-align: middle;\n",
       "    }\n",
       "\n",
       "    .dataframe tbody tr th {\n",
       "        vertical-align: top;\n",
       "    }\n",
       "\n",
       "    .dataframe thead th {\n",
       "        text-align: right;\n",
       "    }\n",
       "</style>\n",
       "<table border=\"1\" class=\"dataframe\">\n",
       "  <thead>\n",
       "    <tr style=\"text-align: right;\">\n",
       "      <th></th>\n",
       "      <th>model</th>\n",
       "      <th>year</th>\n",
       "      <th>price</th>\n",
       "      <th>transmission</th>\n",
       "      <th>mileage</th>\n",
       "      <th>fuelType</th>\n",
       "      <th>tax</th>\n",
       "      <th>mpg</th>\n",
       "      <th>engineSize</th>\n",
       "      <th>periods</th>\n",
       "      <th>category</th>\n",
       "      <th>engines</th>\n",
       "      <th>mpgs</th>\n",
       "    </tr>\n",
       "  </thead>\n",
       "  <tbody>\n",
       "    <tr>\n",
       "      <th>0</th>\n",
       "      <td>5 Series</td>\n",
       "      <td>2014</td>\n",
       "      <td>11200</td>\n",
       "      <td>Automatic</td>\n",
       "      <td>67068</td>\n",
       "      <td>Diesel</td>\n",
       "      <td>125</td>\n",
       "      <td>57.6</td>\n",
       "      <td>2.0</td>\n",
       "      <td>2015</td>\n",
       "      <td>5 Series</td>\n",
       "      <td>2.0</td>\n",
       "      <td>65</td>\n",
       "    </tr>\n",
       "    <tr>\n",
       "      <th>1</th>\n",
       "      <td>6 Series</td>\n",
       "      <td>2018</td>\n",
       "      <td>27000</td>\n",
       "      <td>Automatic</td>\n",
       "      <td>14827</td>\n",
       "      <td>Petrol</td>\n",
       "      <td>145</td>\n",
       "      <td>42.8</td>\n",
       "      <td>2.0</td>\n",
       "      <td>2020</td>\n",
       "      <td>Other sedans</td>\n",
       "      <td>2.0</td>\n",
       "      <td>45</td>\n",
       "    </tr>\n",
       "    <tr>\n",
       "      <th>2</th>\n",
       "      <td>5 Series</td>\n",
       "      <td>2016</td>\n",
       "      <td>16000</td>\n",
       "      <td>Automatic</td>\n",
       "      <td>62794</td>\n",
       "      <td>Diesel</td>\n",
       "      <td>160</td>\n",
       "      <td>51.4</td>\n",
       "      <td>3.0</td>\n",
       "      <td>2020</td>\n",
       "      <td>5 Series</td>\n",
       "      <td>3.0</td>\n",
       "      <td>55</td>\n",
       "    </tr>\n",
       "    <tr>\n",
       "      <th>3</th>\n",
       "      <td>1 Series</td>\n",
       "      <td>2017</td>\n",
       "      <td>12750</td>\n",
       "      <td>Automatic</td>\n",
       "      <td>26676</td>\n",
       "      <td>Diesel</td>\n",
       "      <td>145</td>\n",
       "      <td>72.4</td>\n",
       "      <td>1.5</td>\n",
       "      <td>2020</td>\n",
       "      <td>1 Series</td>\n",
       "      <td>1.5</td>\n",
       "      <td>190</td>\n",
       "    </tr>\n",
       "    <tr>\n",
       "      <th>4</th>\n",
       "      <td>7 Series</td>\n",
       "      <td>2014</td>\n",
       "      <td>14500</td>\n",
       "      <td>Automatic</td>\n",
       "      <td>39554</td>\n",
       "      <td>Diesel</td>\n",
       "      <td>160</td>\n",
       "      <td>50.4</td>\n",
       "      <td>3.0</td>\n",
       "      <td>2015</td>\n",
       "      <td>Other sedans</td>\n",
       "      <td>3.0</td>\n",
       "      <td>55</td>\n",
       "    </tr>\n",
       "  </tbody>\n",
       "</table>\n",
       "</div>"
      ],
      "text/plain": [
       "       model  year  price transmission  mileage fuelType  tax   mpg  \\\n",
       "0   5 Series  2014  11200    Automatic    67068   Diesel  125  57.6   \n",
       "1   6 Series  2018  27000    Automatic    14827   Petrol  145  42.8   \n",
       "2   5 Series  2016  16000    Automatic    62794   Diesel  160  51.4   \n",
       "3   1 Series  2017  12750    Automatic    26676   Diesel  145  72.4   \n",
       "4   7 Series  2014  14500    Automatic    39554   Diesel  160  50.4   \n",
       "\n",
       "   engineSize  periods       category  engines  mpgs  \n",
       "0         2.0     2015       5 Series      2.0    65  \n",
       "1         2.0     2020   Other sedans      2.0    45  \n",
       "2         3.0     2020       5 Series      3.0    55  \n",
       "3         1.5     2020       1 Series      1.5   190  \n",
       "4         3.0     2015   Other sedans      3.0    55  "
      ]
     },
     "execution_count": 711,
     "metadata": {},
     "output_type": "execute_result"
    }
   ],
   "source": [
    "mpg_dict = {45: (5.5, 8.8, 19.1, 20.8, 21.9, 22.1, 22.6, 22.8, 23.2, 23.3, 23.7, 24.1, 24.4,\\\n",
    "                    24.6, 24.8, 25.2, 25.4, 26.4, 26.6, 26.7, 26.9, 27.2, 27.4, 27.7, 28.5, 28.8, \\\n",
    "                    29.1, 29.4, 29.7, 30.1, 30.4, 30.7, 31.0, 31.4, 31.7, 32.1, 32.5, 32.8, 33.2, 33.6, 34.0, 34.4, \\\n",
    "                    34.5, 34.9, 35.3, 35.8, 36.2, 36.7, 37.2, 37.7, 38.2, 38.7, 39.2, 39.8, 40.4, \\\n",
    "                    40.9, 41.5, 42.2, 42.8, 43.5, 44.1, 44.8),\n",
    "               55: (45.6, 46.3, 47.1, 47.9, 48.7, 49.6, 50.4, 51.4, 52.3, 53.3, 54.3),\n",
    "               65: (55.4, 55.5, 56.5, 57.6, 57.7, 58.9, 60.1, 61.4, 62.8, 64.2),\n",
    "              190: (65.7, 67.3, 68.9, 70.6, 72.4, 74.3, 78.5, 83.1, 85.6, 113.0, 128.4, 134.5, 135.5,\\\n",
    "                    141.2, 141.3, 148.7, 156.9, 188.3, 470.8)}\n",
    "\n",
    "mpgs = []\n",
    "\n",
    "for mpg in df['mpg']:\n",
    "    for key, value in mpg_dict.items():\n",
    "        if mpg in value:\n",
    "            mpgs.append(key)\n",
    "\n",
    "df['mpgs'] = mpgs\n",
    "df.head()"
   ]
  },
  {
   "cell_type": "code",
   "execution_count": 712,
   "metadata": {},
   "outputs": [
    {
     "data": {
      "text/plain": [
       "{65: 2550, 45: 2623, 55: 3569, 190: 2039}"
      ]
     },
     "execution_count": 712,
     "metadata": {},
     "output_type": "execute_result"
    }
   ],
   "source": [
    "cnt_mpg = Counter(df['mpgs'])\n",
    "cnt_mpg = dict(cnt_mpg)\n",
    "cnt_mpg"
   ]
  },
  {
   "cell_type": "code",
   "execution_count": 713,
   "metadata": {},
   "outputs": [
    {
     "data": {
      "image/png": "[encoded data removed]",
      "text/plain": [
       "<Figure size 360x360 with 1 Axes>"
      ]
     },
     "metadata": {},
     "output_type": "display_data"
    }
   ],
   "source": [
    "fig1, ax1 = plt.subplots()\n",
    "ax1.pie(cnt_mpg.values(), labels=cnt_mpg.keys(), autopct='%1.1f%%')\n",
    "ax1.axis('equal') \n",
    "ax1.legend(loc='upper left', bbox_to_anchor=(1.2, 1.0))\n",
    "fig = plt.gcf()\n",
    "fig.set_size_inches(5,5)\n",
    "plt.show()"
   ]
  },
  {
   "cell_type": "markdown",
   "metadata": {},
   "source": [
    "Минимальный пробег на 1 галоне топлива - 5.5, максимальный - 470.8. В среднем же, машины, представленные в датасете, могут проехать 56.4 миль на 1 галоне топлива. В целом, весь датасет по данному показателю относительно равномерно делится на 4 группы: \n",
    "* до 45mpg - 24.3%, \n",
    "* от 46 до 55mpg - 33.1%\n",
    "* от 56 до 65mpg - 23.7%\n",
    "* свыше 66mpg - 18.9%."
   ]
  },
  {
   "cell_type": "markdown",
   "metadata": {},
   "source": [
    "### Категориальные переменные"
   ]
  },
  {
   "cell_type": "markdown",
   "metadata": {},
   "source": [
    "#### Кодирование переменной model"
   ]
  },
  {
   "cell_type": "code",
   "execution_count": 714,
   "metadata": {},
   "outputs": [
    {
     "data": {
      "text/html": [
       "<div>\n",
       "<style scoped>\n",
       "    .dataframe tbody tr th:only-of-type {\n",
       "        vertical-align: middle;\n",
       "    }\n",
       "\n",
       "    .dataframe tbody tr th {\n",
       "        vertical-align: top;\n",
       "    }\n",
       "\n",
       "    .dataframe thead th {\n",
       "        text-align: right;\n",
       "    }\n",
       "</style>\n",
       "<table border=\"1\" class=\"dataframe\">\n",
       "  <thead>\n",
       "    <tr style=\"text-align: right;\">\n",
       "      <th></th>\n",
       "      <th>model</th>\n",
       "      <th>year</th>\n",
       "      <th>price</th>\n",
       "      <th>transmission</th>\n",
       "      <th>mileage</th>\n",
       "      <th>fuelType</th>\n",
       "      <th>tax</th>\n",
       "      <th>mpg</th>\n",
       "      <th>engineSize</th>\n",
       "      <th>periods</th>\n",
       "      <th>category</th>\n",
       "      <th>engines</th>\n",
       "      <th>mpgs</th>\n",
       "      <th>model_median_price</th>\n",
       "    </tr>\n",
       "  </thead>\n",
       "  <tbody>\n",
       "    <tr>\n",
       "      <th>0</th>\n",
       "      <td>5 Series</td>\n",
       "      <td>2014</td>\n",
       "      <td>11200</td>\n",
       "      <td>Automatic</td>\n",
       "      <td>67068</td>\n",
       "      <td>Diesel</td>\n",
       "      <td>125</td>\n",
       "      <td>57.6</td>\n",
       "      <td>2.0</td>\n",
       "      <td>2015</td>\n",
       "      <td>5 Series</td>\n",
       "      <td>2.0</td>\n",
       "      <td>65</td>\n",
       "      <td>22996.5</td>\n",
       "    </tr>\n",
       "    <tr>\n",
       "      <th>1</th>\n",
       "      <td>6 Series</td>\n",
       "      <td>2018</td>\n",
       "      <td>27000</td>\n",
       "      <td>Automatic</td>\n",
       "      <td>14827</td>\n",
       "      <td>Petrol</td>\n",
       "      <td>145</td>\n",
       "      <td>42.8</td>\n",
       "      <td>2.0</td>\n",
       "      <td>2020</td>\n",
       "      <td>Other sedans</td>\n",
       "      <td>2.0</td>\n",
       "      <td>45</td>\n",
       "      <td>22854.0</td>\n",
       "    </tr>\n",
       "    <tr>\n",
       "      <th>2</th>\n",
       "      <td>5 Series</td>\n",
       "      <td>2016</td>\n",
       "      <td>16000</td>\n",
       "      <td>Automatic</td>\n",
       "      <td>62794</td>\n",
       "      <td>Diesel</td>\n",
       "      <td>160</td>\n",
       "      <td>51.4</td>\n",
       "      <td>3.0</td>\n",
       "      <td>2020</td>\n",
       "      <td>5 Series</td>\n",
       "      <td>3.0</td>\n",
       "      <td>55</td>\n",
       "      <td>22996.5</td>\n",
       "    </tr>\n",
       "    <tr>\n",
       "      <th>3</th>\n",
       "      <td>1 Series</td>\n",
       "      <td>2017</td>\n",
       "      <td>12750</td>\n",
       "      <td>Automatic</td>\n",
       "      <td>26676</td>\n",
       "      <td>Diesel</td>\n",
       "      <td>145</td>\n",
       "      <td>72.4</td>\n",
       "      <td>1.5</td>\n",
       "      <td>2020</td>\n",
       "      <td>1 Series</td>\n",
       "      <td>1.5</td>\n",
       "      <td>190</td>\n",
       "      <td>14800.0</td>\n",
       "    </tr>\n",
       "    <tr>\n",
       "      <th>4</th>\n",
       "      <td>7 Series</td>\n",
       "      <td>2014</td>\n",
       "      <td>14500</td>\n",
       "      <td>Automatic</td>\n",
       "      <td>39554</td>\n",
       "      <td>Diesel</td>\n",
       "      <td>160</td>\n",
       "      <td>50.4</td>\n",
       "      <td>3.0</td>\n",
       "      <td>2015</td>\n",
       "      <td>Other sedans</td>\n",
       "      <td>3.0</td>\n",
       "      <td>55</td>\n",
       "      <td>37224.5</td>\n",
       "    </tr>\n",
       "  </tbody>\n",
       "</table>\n",
       "</div>"
      ],
      "text/plain": [
       "       model  year  price transmission  mileage fuelType  tax   mpg  \\\n",
       "0   5 Series  2014  11200    Automatic    67068   Diesel  125  57.6   \n",
       "1   6 Series  2018  27000    Automatic    14827   Petrol  145  42.8   \n",
       "2   5 Series  2016  16000    Automatic    62794   Diesel  160  51.4   \n",
       "3   1 Series  2017  12750    Automatic    26676   Diesel  145  72.4   \n",
       "4   7 Series  2014  14500    Automatic    39554   Diesel  160  50.4   \n",
       "\n",
       "   engineSize  periods       category  engines  mpgs  model_median_price  \n",
       "0         2.0     2015       5 Series      2.0    65             22996.5  \n",
       "1         2.0     2020   Other sedans      2.0    45             22854.0  \n",
       "2         3.0     2020       5 Series      3.0    55             22996.5  \n",
       "3         1.5     2020       1 Series      1.5   190             14800.0  \n",
       "4         3.0     2015   Other sedans      3.0    55             37224.5  "
      ]
     },
     "execution_count": 714,
     "metadata": {},
     "output_type": "execute_result"
    }
   ],
   "source": [
    "def code_median(df, cat_feature, real_feature):\n",
    "    return (df[cat_feature].map(df.groupby(cat_feature)[real_feature].median()))\n",
    "\n",
    "df['model_median_price'] = code_median(df, 'model', 'price')\n",
    "df.head()"
   ]
  },
  {
   "cell_type": "markdown",
   "metadata": {},
   "source": [
    "#### Кодирование переменной transmission"
   ]
  },
  {
   "cell_type": "code",
   "execution_count": 715,
   "metadata": {},
   "outputs": [
    {
     "data": {
      "text/html": [
       "<div>\n",
       "<style scoped>\n",
       "    .dataframe tbody tr th:only-of-type {\n",
       "        vertical-align: middle;\n",
       "    }\n",
       "\n",
       "    .dataframe tbody tr th {\n",
       "        vertical-align: top;\n",
       "    }\n",
       "\n",
       "    .dataframe thead th {\n",
       "        text-align: right;\n",
       "    }\n",
       "</style>\n",
       "<table border=\"1\" class=\"dataframe\">\n",
       "  <thead>\n",
       "    <tr style=\"text-align: right;\">\n",
       "      <th></th>\n",
       "      <th>transm__Automatic</th>\n",
       "      <th>transm__Manual</th>\n",
       "      <th>transm__Semi-Auto</th>\n",
       "    </tr>\n",
       "  </thead>\n",
       "  <tbody>\n",
       "    <tr>\n",
       "      <th>0</th>\n",
       "      <td>1</td>\n",
       "      <td>0</td>\n",
       "      <td>0</td>\n",
       "    </tr>\n",
       "    <tr>\n",
       "      <th>1</th>\n",
       "      <td>1</td>\n",
       "      <td>0</td>\n",
       "      <td>0</td>\n",
       "    </tr>\n",
       "    <tr>\n",
       "      <th>2</th>\n",
       "      <td>1</td>\n",
       "      <td>0</td>\n",
       "      <td>0</td>\n",
       "    </tr>\n",
       "    <tr>\n",
       "      <th>3</th>\n",
       "      <td>1</td>\n",
       "      <td>0</td>\n",
       "      <td>0</td>\n",
       "    </tr>\n",
       "    <tr>\n",
       "      <th>4</th>\n",
       "      <td>1</td>\n",
       "      <td>0</td>\n",
       "      <td>0</td>\n",
       "    </tr>\n",
       "  </tbody>\n",
       "</table>\n",
       "</div>"
      ],
      "text/plain": [
       "   transm__Automatic  transm__Manual  transm__Semi-Auto\n",
       "0                  1               0                  0\n",
       "1                  1               0                  0\n",
       "2                  1               0                  0\n",
       "3                  1               0                  0\n",
       "4                  1               0                  0"
      ]
     },
     "execution_count": 715,
     "metadata": {},
     "output_type": "execute_result"
    }
   ],
   "source": [
    "dummy_transmission = pd.get_dummies(df['transmission'], prefix='transm_')\n",
    "dummy_transmission.head()"
   ]
  },
  {
   "cell_type": "code",
   "execution_count": 716,
   "metadata": {},
   "outputs": [
    {
     "data": {
      "text/html": [
       "<div>\n",
       "<style scoped>\n",
       "    .dataframe tbody tr th:only-of-type {\n",
       "        vertical-align: middle;\n",
       "    }\n",
       "\n",
       "    .dataframe tbody tr th {\n",
       "        vertical-align: top;\n",
       "    }\n",
       "\n",
       "    .dataframe thead th {\n",
       "        text-align: right;\n",
       "    }\n",
       "</style>\n",
       "<table border=\"1\" class=\"dataframe\">\n",
       "  <thead>\n",
       "    <tr style=\"text-align: right;\">\n",
       "      <th></th>\n",
       "      <th>model</th>\n",
       "      <th>year</th>\n",
       "      <th>price</th>\n",
       "      <th>transmission</th>\n",
       "      <th>mileage</th>\n",
       "      <th>fuelType</th>\n",
       "      <th>tax</th>\n",
       "      <th>mpg</th>\n",
       "      <th>engineSize</th>\n",
       "      <th>periods</th>\n",
       "      <th>category</th>\n",
       "      <th>engines</th>\n",
       "      <th>mpgs</th>\n",
       "      <th>model_median_price</th>\n",
       "      <th>transm__Automatic</th>\n",
       "      <th>transm__Manual</th>\n",
       "      <th>transm__Semi-Auto</th>\n",
       "    </tr>\n",
       "  </thead>\n",
       "  <tbody>\n",
       "    <tr>\n",
       "      <th>0</th>\n",
       "      <td>5 Series</td>\n",
       "      <td>2014</td>\n",
       "      <td>11200</td>\n",
       "      <td>Automatic</td>\n",
       "      <td>67068</td>\n",
       "      <td>Diesel</td>\n",
       "      <td>125</td>\n",
       "      <td>57.6</td>\n",
       "      <td>2.0</td>\n",
       "      <td>2015</td>\n",
       "      <td>5 Series</td>\n",
       "      <td>2.0</td>\n",
       "      <td>65</td>\n",
       "      <td>22996.5</td>\n",
       "      <td>1</td>\n",
       "      <td>0</td>\n",
       "      <td>0</td>\n",
       "    </tr>\n",
       "    <tr>\n",
       "      <th>1</th>\n",
       "      <td>6 Series</td>\n",
       "      <td>2018</td>\n",
       "      <td>27000</td>\n",
       "      <td>Automatic</td>\n",
       "      <td>14827</td>\n",
       "      <td>Petrol</td>\n",
       "      <td>145</td>\n",
       "      <td>42.8</td>\n",
       "      <td>2.0</td>\n",
       "      <td>2020</td>\n",
       "      <td>Other sedans</td>\n",
       "      <td>2.0</td>\n",
       "      <td>45</td>\n",
       "      <td>22854.0</td>\n",
       "      <td>1</td>\n",
       "      <td>0</td>\n",
       "      <td>0</td>\n",
       "    </tr>\n",
       "    <tr>\n",
       "      <th>2</th>\n",
       "      <td>5 Series</td>\n",
       "      <td>2016</td>\n",
       "      <td>16000</td>\n",
       "      <td>Automatic</td>\n",
       "      <td>62794</td>\n",
       "      <td>Diesel</td>\n",
       "      <td>160</td>\n",
       "      <td>51.4</td>\n",
       "      <td>3.0</td>\n",
       "      <td>2020</td>\n",
       "      <td>5 Series</td>\n",
       "      <td>3.0</td>\n",
       "      <td>55</td>\n",
       "      <td>22996.5</td>\n",
       "      <td>1</td>\n",
       "      <td>0</td>\n",
       "      <td>0</td>\n",
       "    </tr>\n",
       "    <tr>\n",
       "      <th>3</th>\n",
       "      <td>1 Series</td>\n",
       "      <td>2017</td>\n",
       "      <td>12750</td>\n",
       "      <td>Automatic</td>\n",
       "      <td>26676</td>\n",
       "      <td>Diesel</td>\n",
       "      <td>145</td>\n",
       "      <td>72.4</td>\n",
       "      <td>1.5</td>\n",
       "      <td>2020</td>\n",
       "      <td>1 Series</td>\n",
       "      <td>1.5</td>\n",
       "      <td>190</td>\n",
       "      <td>14800.0</td>\n",
       "      <td>1</td>\n",
       "      <td>0</td>\n",
       "      <td>0</td>\n",
       "    </tr>\n",
       "    <tr>\n",
       "      <th>4</th>\n",
       "      <td>7 Series</td>\n",
       "      <td>2014</td>\n",
       "      <td>14500</td>\n",
       "      <td>Automatic</td>\n",
       "      <td>39554</td>\n",
       "      <td>Diesel</td>\n",
       "      <td>160</td>\n",
       "      <td>50.4</td>\n",
       "      <td>3.0</td>\n",
       "      <td>2015</td>\n",
       "      <td>Other sedans</td>\n",
       "      <td>3.0</td>\n",
       "      <td>55</td>\n",
       "      <td>37224.5</td>\n",
       "      <td>1</td>\n",
       "      <td>0</td>\n",
       "      <td>0</td>\n",
       "    </tr>\n",
       "  </tbody>\n",
       "</table>\n",
       "</div>"
      ],
      "text/plain": [
       "       model  year  price transmission  mileage fuelType  tax   mpg  \\\n",
       "0   5 Series  2014  11200    Automatic    67068   Diesel  125  57.6   \n",
       "1   6 Series  2018  27000    Automatic    14827   Petrol  145  42.8   \n",
       "2   5 Series  2016  16000    Automatic    62794   Diesel  160  51.4   \n",
       "3   1 Series  2017  12750    Automatic    26676   Diesel  145  72.4   \n",
       "4   7 Series  2014  14500    Automatic    39554   Diesel  160  50.4   \n",
       "\n",
       "   engineSize  periods       category  engines  mpgs  model_median_price  \\\n",
       "0         2.0     2015       5 Series      2.0    65             22996.5   \n",
       "1         2.0     2020   Other sedans      2.0    45             22854.0   \n",
       "2         3.0     2020       5 Series      3.0    55             22996.5   \n",
       "3         1.5     2020       1 Series      1.5   190             14800.0   \n",
       "4         3.0     2015   Other sedans      3.0    55             37224.5   \n",
       "\n",
       "   transm__Automatic  transm__Manual  transm__Semi-Auto  \n",
       "0                  1               0                  0  \n",
       "1                  1               0                  0  \n",
       "2                  1               0                  0  \n",
       "3                  1               0                  0  \n",
       "4                  1               0                  0  "
      ]
     },
     "execution_count": 716,
     "metadata": {},
     "output_type": "execute_result"
    }
   ],
   "source": [
    "df = pd.merge(\n",
    "    left=df,\n",
    "    right=dummy_transmission,\n",
    "    left_index=True,\n",
    "    right_index=True,\n",
    ")\n",
    "df.head()"
   ]
  },
  {
   "cell_type": "markdown",
   "metadata": {},
   "source": [
    "#### Кодирование переменной fuelType"
   ]
  },
  {
   "cell_type": "code",
   "execution_count": 717,
   "metadata": {},
   "outputs": [
    {
     "data": {
      "text/html": [
       "<div>\n",
       "<style scoped>\n",
       "    .dataframe tbody tr th:only-of-type {\n",
       "        vertical-align: middle;\n",
       "    }\n",
       "\n",
       "    .dataframe tbody tr th {\n",
       "        vertical-align: top;\n",
       "    }\n",
       "\n",
       "    .dataframe thead th {\n",
       "        text-align: right;\n",
       "    }\n",
       "</style>\n",
       "<table border=\"1\" class=\"dataframe\">\n",
       "  <thead>\n",
       "    <tr style=\"text-align: right;\">\n",
       "      <th></th>\n",
       "      <th>fuel__Diesel</th>\n",
       "      <th>fuel__Electric</th>\n",
       "      <th>fuel__Hybrid</th>\n",
       "      <th>fuel__Other</th>\n",
       "      <th>fuel__Petrol</th>\n",
       "    </tr>\n",
       "  </thead>\n",
       "  <tbody>\n",
       "    <tr>\n",
       "      <th>0</th>\n",
       "      <td>1</td>\n",
       "      <td>0</td>\n",
       "      <td>0</td>\n",
       "      <td>0</td>\n",
       "      <td>0</td>\n",
       "    </tr>\n",
       "    <tr>\n",
       "      <th>1</th>\n",
       "      <td>0</td>\n",
       "      <td>0</td>\n",
       "      <td>0</td>\n",
       "      <td>0</td>\n",
       "      <td>1</td>\n",
       "    </tr>\n",
       "    <tr>\n",
       "      <th>2</th>\n",
       "      <td>1</td>\n",
       "      <td>0</td>\n",
       "      <td>0</td>\n",
       "      <td>0</td>\n",
       "      <td>0</td>\n",
       "    </tr>\n",
       "    <tr>\n",
       "      <th>3</th>\n",
       "      <td>1</td>\n",
       "      <td>0</td>\n",
       "      <td>0</td>\n",
       "      <td>0</td>\n",
       "      <td>0</td>\n",
       "    </tr>\n",
       "    <tr>\n",
       "      <th>4</th>\n",
       "      <td>1</td>\n",
       "      <td>0</td>\n",
       "      <td>0</td>\n",
       "      <td>0</td>\n",
       "      <td>0</td>\n",
       "    </tr>\n",
       "  </tbody>\n",
       "</table>\n",
       "</div>"
      ],
      "text/plain": [
       "   fuel__Diesel  fuel__Electric  fuel__Hybrid  fuel__Other  fuel__Petrol\n",
       "0             1               0             0            0             0\n",
       "1             0               0             0            0             1\n",
       "2             1               0             0            0             0\n",
       "3             1               0             0            0             0\n",
       "4             1               0             0            0             0"
      ]
     },
     "execution_count": 717,
     "metadata": {},
     "output_type": "execute_result"
    }
   ],
   "source": [
    "dummy_fuel = pd.get_dummies(df['fuelType'], prefix='fuel_')\n",
    "dummy_fuel.head()"
   ]
  },
  {
   "cell_type": "code",
   "execution_count": 718,
   "metadata": {
    "scrolled": true
   },
   "outputs": [
    {
     "data": {
      "text/html": [
       "<div>\n",
       "<style scoped>\n",
       "    .dataframe tbody tr th:only-of-type {\n",
       "        vertical-align: middle;\n",
       "    }\n",
       "\n",
       "    .dataframe tbody tr th {\n",
       "        vertical-align: top;\n",
       "    }\n",
       "\n",
       "    .dataframe thead th {\n",
       "        text-align: right;\n",
       "    }\n",
       "</style>\n",
       "<table border=\"1\" class=\"dataframe\">\n",
       "  <thead>\n",
       "    <tr style=\"text-align: right;\">\n",
       "      <th></th>\n",
       "      <th>model</th>\n",
       "      <th>year</th>\n",
       "      <th>price</th>\n",
       "      <th>transmission</th>\n",
       "      <th>mileage</th>\n",
       "      <th>fuelType</th>\n",
       "      <th>tax</th>\n",
       "      <th>mpg</th>\n",
       "      <th>engineSize</th>\n",
       "      <th>periods</th>\n",
       "      <th>...</th>\n",
       "      <th>mpgs</th>\n",
       "      <th>model_median_price</th>\n",
       "      <th>transm__Automatic</th>\n",
       "      <th>transm__Manual</th>\n",
       "      <th>transm__Semi-Auto</th>\n",
       "      <th>fuel__Diesel</th>\n",
       "      <th>fuel__Electric</th>\n",
       "      <th>fuel__Hybrid</th>\n",
       "      <th>fuel__Other</th>\n",
       "      <th>fuel__Petrol</th>\n",
       "    </tr>\n",
       "  </thead>\n",
       "  <tbody>\n",
       "    <tr>\n",
       "      <th>0</th>\n",
       "      <td>5 Series</td>\n",
       "      <td>2014</td>\n",
       "      <td>11200</td>\n",
       "      <td>Automatic</td>\n",
       "      <td>67068</td>\n",
       "      <td>Diesel</td>\n",
       "      <td>125</td>\n",
       "      <td>57.6</td>\n",
       "      <td>2.0</td>\n",
       "      <td>2015</td>\n",
       "      <td>...</td>\n",
       "      <td>65</td>\n",
       "      <td>22996.5</td>\n",
       "      <td>1</td>\n",
       "      <td>0</td>\n",
       "      <td>0</td>\n",
       "      <td>1</td>\n",
       "      <td>0</td>\n",
       "      <td>0</td>\n",
       "      <td>0</td>\n",
       "      <td>0</td>\n",
       "    </tr>\n",
       "    <tr>\n",
       "      <th>1</th>\n",
       "      <td>6 Series</td>\n",
       "      <td>2018</td>\n",
       "      <td>27000</td>\n",
       "      <td>Automatic</td>\n",
       "      <td>14827</td>\n",
       "      <td>Petrol</td>\n",
       "      <td>145</td>\n",
       "      <td>42.8</td>\n",
       "      <td>2.0</td>\n",
       "      <td>2020</td>\n",
       "      <td>...</td>\n",
       "      <td>45</td>\n",
       "      <td>22854.0</td>\n",
       "      <td>1</td>\n",
       "      <td>0</td>\n",
       "      <td>0</td>\n",
       "      <td>0</td>\n",
       "      <td>0</td>\n",
       "      <td>0</td>\n",
       "      <td>0</td>\n",
       "      <td>1</td>\n",
       "    </tr>\n",
       "    <tr>\n",
       "      <th>2</th>\n",
       "      <td>5 Series</td>\n",
       "      <td>2016</td>\n",
       "      <td>16000</td>\n",
       "      <td>Automatic</td>\n",
       "      <td>62794</td>\n",
       "      <td>Diesel</td>\n",
       "      <td>160</td>\n",
       "      <td>51.4</td>\n",
       "      <td>3.0</td>\n",
       "      <td>2020</td>\n",
       "      <td>...</td>\n",
       "      <td>55</td>\n",
       "      <td>22996.5</td>\n",
       "      <td>1</td>\n",
       "      <td>0</td>\n",
       "      <td>0</td>\n",
       "      <td>1</td>\n",
       "      <td>0</td>\n",
       "      <td>0</td>\n",
       "      <td>0</td>\n",
       "      <td>0</td>\n",
       "    </tr>\n",
       "    <tr>\n",
       "      <th>3</th>\n",
       "      <td>1 Series</td>\n",
       "      <td>2017</td>\n",
       "      <td>12750</td>\n",
       "      <td>Automatic</td>\n",
       "      <td>26676</td>\n",
       "      <td>Diesel</td>\n",
       "      <td>145</td>\n",
       "      <td>72.4</td>\n",
       "      <td>1.5</td>\n",
       "      <td>2020</td>\n",
       "      <td>...</td>\n",
       "      <td>190</td>\n",
       "      <td>14800.0</td>\n",
       "      <td>1</td>\n",
       "      <td>0</td>\n",
       "      <td>0</td>\n",
       "      <td>1</td>\n",
       "      <td>0</td>\n",
       "      <td>0</td>\n",
       "      <td>0</td>\n",
       "      <td>0</td>\n",
       "    </tr>\n",
       "    <tr>\n",
       "      <th>4</th>\n",
       "      <td>7 Series</td>\n",
       "      <td>2014</td>\n",
       "      <td>14500</td>\n",
       "      <td>Automatic</td>\n",
       "      <td>39554</td>\n",
       "      <td>Diesel</td>\n",
       "      <td>160</td>\n",
       "      <td>50.4</td>\n",
       "      <td>3.0</td>\n",
       "      <td>2015</td>\n",
       "      <td>...</td>\n",
       "      <td>55</td>\n",
       "      <td>37224.5</td>\n",
       "      <td>1</td>\n",
       "      <td>0</td>\n",
       "      <td>0</td>\n",
       "      <td>1</td>\n",
       "      <td>0</td>\n",
       "      <td>0</td>\n",
       "      <td>0</td>\n",
       "      <td>0</td>\n",
       "    </tr>\n",
       "  </tbody>\n",
       "</table>\n",
       "<p>5 rows × 22 columns</p>\n",
       "</div>"
      ],
      "text/plain": [
       "       model  year  price transmission  mileage fuelType  tax   mpg  \\\n",
       "0   5 Series  2014  11200    Automatic    67068   Diesel  125  57.6   \n",
       "1   6 Series  2018  27000    Automatic    14827   Petrol  145  42.8   \n",
       "2   5 Series  2016  16000    Automatic    62794   Diesel  160  51.4   \n",
       "3   1 Series  2017  12750    Automatic    26676   Diesel  145  72.4   \n",
       "4   7 Series  2014  14500    Automatic    39554   Diesel  160  50.4   \n",
       "\n",
       "   engineSize  periods  ... mpgs  model_median_price  transm__Automatic  \\\n",
       "0         2.0     2015  ...   65             22996.5                  1   \n",
       "1         2.0     2020  ...   45             22854.0                  1   \n",
       "2         3.0     2020  ...   55             22996.5                  1   \n",
       "3         1.5     2020  ...  190             14800.0                  1   \n",
       "4         3.0     2015  ...   55             37224.5                  1   \n",
       "\n",
       "   transm__Manual  transm__Semi-Auto  fuel__Diesel  fuel__Electric  \\\n",
       "0               0                  0             1               0   \n",
       "1               0                  0             0               0   \n",
       "2               0                  0             1               0   \n",
       "3               0                  0             1               0   \n",
       "4               0                  0             1               0   \n",
       "\n",
       "   fuel__Hybrid  fuel__Other  fuel__Petrol  \n",
       "0             0            0             0  \n",
       "1             0            0             1  \n",
       "2             0            0             0  \n",
       "3             0            0             0  \n",
       "4             0            0             0  \n",
       "\n",
       "[5 rows x 22 columns]"
      ]
     },
     "execution_count": 718,
     "metadata": {},
     "output_type": "execute_result"
    }
   ],
   "source": [
    "df = pd.merge(\n",
    "    left=df,\n",
    "    right=dummy_fuel,\n",
    "    left_index=True,\n",
    "    right_index=True,\n",
    ")\n",
    "df.head()"
   ]
  },
  {
   "cell_type": "markdown",
   "metadata": {},
   "source": [
    "### Независимые признаки"
   ]
  },
  {
   "cell_type": "markdown",
   "metadata": {},
   "source": [
    "Построим таблицу взаимосвязей и проанализируем степень влияния факторов друг на друга."
   ]
  },
  {
   "cell_type": "code",
   "execution_count": 719,
   "metadata": {},
   "outputs": [
    {
     "data": {
      "image/png": "[encoded data removed]",
      "text/plain": [
       "<Figure size 1152x432 with 2 Axes>"
      ]
     },
     "metadata": {},
     "output_type": "display_data"
    }
   ],
   "source": [
    "plt.figure(figsize=(16, 6)) \n",
    "mask = np.triu(np.ones_like(df.corr(), dtype=np.bool)) \n",
    "heatmap = sns.heatmap(df.corr(), annot=True, vmin=-1, vmax=1, mask = mask, cmap='BrBG')\n",
    "heatmap.set_title('Triangle Correlation Heatmap', fontdict={'fontsize':18}, pad=16);"
   ]
  },
  {
   "cell_type": "markdown",
   "metadata": {},
   "source": [
    "Какие значимые взаимосвязи мы здесь видим:\n",
    "* <b>Цена</b>: \n",
    "    * зависит от года выпуска а/м (чем старше год - тем ниже цена), коэффициент корреляции 0.62\n",
    "    * чем больше пробег, тем ниже цена, коэффициент корреляции - 0.61\n",
    "    * на цену влияет размер двигателя (больше двигатель - дороже машина), коэффициент корреляции 0.46\n",
    "    * машина с ручной коробкой передач стоит дешевле, коэффициент корреляции -0.39\n",
    "* <b>Пробег</b>: \n",
    "    * чем старше машина, тем больше ее пробег, коэффициент корреляции -0.77\n",
    "* <b>Налог</b>: \n",
    "    * чем больше машина может пройти на 1 галоне топлива, тем меньше налог, коэффициент корреляции -0.35\n",
    "    * чем больше объем двигателя, тем больше налог , коэффициент корреляции 0.43\n",
    "* <b>Расход топлива</b>: \n",
    "    * чем больше объем двигателя, тем меньше пробег машина на 1 галоне топлива, коэффициент корреляции -0.4"
   ]
  },
  {
   "cell_type": "markdown",
   "metadata": {},
   "source": [
    "Еще раз внимательно проанализируем переменные, влиющие на цену:"
   ]
  },
  {
   "cell_type": "code",
   "execution_count": 720,
   "metadata": {},
   "outputs": [
    {
     "data": {
      "image/png": "[encoded data removed]",
      "text/plain": [
       "<Figure size 576x864 with 2 Axes>"
      ]
     },
     "metadata": {},
     "output_type": "display_data"
    }
   ],
   "source": [
    "plt.figure(figsize=(8, 12))\n",
    "heatmap = sns.heatmap(df.corr()[['price']].sort_values(by='price', ascending=False), vmin=-1, vmax=1, annot=True, cmap='BrBG')\n",
    "\n",
    "heatmap.set_title('Features Correlating with Price', fontdict={'fontsize':18}, pad=16);"
   ]
  },
  {
   "cell_type": "markdown",
   "metadata": {},
   "source": [
    "Из тепловой диаграммы мы видим, что на цену наибольшее влияние оказывают:\n",
    "1. Год выпуска (0.62)\n",
    "2. Размер двигателя (0.46)\n",
    "3. Коробка полуавтомат (0.35)\n",
    "4. Ручная коробка передач (-0.39)\n",
    "5. Пробег (-0.61)"
   ]
  },
  {
   "cell_type": "markdown",
   "metadata": {},
   "source": [
    "## Оценка взаимосвязи цены и года выпуска автомобиля в разрезе моделей"
   ]
  },
  {
   "cell_type": "markdown",
   "metadata": {},
   "source": [
    "Рассмотрим применение коэффициента корреляции на примере анализа зависимости цены от года выпуска машины в разрезе моделей."
   ]
  },
  {
   "cell_type": "code",
   "execution_count": 721,
   "metadata": {},
   "outputs": [
    {
     "data": {
      "text/plain": [
       "array([' 1 Series', ' 2 Series', ' 3 Series', ' 4 Series', ' 5 Series',\n",
       "       ' Other sedans', 'I Series', 'M Series', 'SUV', 'Z Series'],\n",
       "      dtype=object)"
      ]
     },
     "execution_count": 721,
     "metadata": {},
     "output_type": "execute_result"
    }
   ],
   "source": [
    "model_list = np.unique(df['category'])\n",
    "model_list"
   ]
  },
  {
   "cell_type": "code",
   "execution_count": 722,
   "metadata": {},
   "outputs": [
    {
     "data": {
      "text/plain": [
       "<seaborn.axisgrid.FacetGrid at 0x28edba2dac0>"
      ]
     },
     "execution_count": 722,
     "metadata": {},
     "output_type": "execute_result"
    },
    {
     "data": {
      "image/png": "[encoded data removed]",
      "text/plain": [
       "<Figure size 720x288 with 10 Axes>"
      ]
     },
     "metadata": {},
     "output_type": "display_data"
    }
   ],
   "source": [
    "grid = sns.FacetGrid(df, col=\"category\", hue=\"category\", col_wrap=5, height=2)\n",
    "grid.map(sns.scatterplot, \"year\", \"price\")"
   ]
  },
  {
   "cell_type": "markdown",
   "metadata": {},
   "source": [
    "Влияние года выпуска на стоимость машины сохраняется не зависимо от модели машины. Но степень влияния для каждой модельной группы - разная. Посчитаем коэффициенты корреляции между ценой и годом выпуска для каждой из моделей и сравним их между собой."
   ]
  },
  {
   "cell_type": "markdown",
   "metadata": {},
   "source": [
    "<b>Коэффициент корреляции (r)</b> характеризует величину отражающую степень взаимосвязи двух переменных между собой. Он может варьировать в пределах от -1 (отрицательная корреляция) до +1 (положительная корреляция). Если коэффициент корреляции равен 0 то, это говорит об отсутствии корреляционных связей между переменными. Причем если коэффициент корреляции ближе к 1 (или -1) то говориться о сильной корреляции, а если ближе к 0, то о слабой."
   ]
  },
  {
   "cell_type": "code",
   "execution_count": 723,
   "metadata": {},
   "outputs": [
    {
     "data": {
      "text/html": [
       "<div>\n",
       "<style scoped>\n",
       "    .dataframe tbody tr th:only-of-type {\n",
       "        vertical-align: middle;\n",
       "    }\n",
       "\n",
       "    .dataframe tbody tr th {\n",
       "        vertical-align: top;\n",
       "    }\n",
       "\n",
       "    .dataframe thead th {\n",
       "        text-align: right;\n",
       "    }\n",
       "</style>\n",
       "<table border=\"1\" class=\"dataframe\">\n",
       "  <thead>\n",
       "    <tr style=\"text-align: right;\">\n",
       "      <th></th>\n",
       "      <th>category</th>\n",
       "      <th>correlation</th>\n",
       "    </tr>\n",
       "  </thead>\n",
       "  <tbody>\n",
       "    <tr>\n",
       "      <th>6</th>\n",
       "      <td>I Series</td>\n",
       "      <td>0.598029</td>\n",
       "    </tr>\n",
       "    <tr>\n",
       "      <th>7</th>\n",
       "      <td>M Series</td>\n",
       "      <td>0.629492</td>\n",
       "    </tr>\n",
       "    <tr>\n",
       "      <th>8</th>\n",
       "      <td>SUV</td>\n",
       "      <td>0.654553</td>\n",
       "    </tr>\n",
       "    <tr>\n",
       "      <th>1</th>\n",
       "      <td>2 Series</td>\n",
       "      <td>0.671495</td>\n",
       "    </tr>\n",
       "    <tr>\n",
       "      <th>0</th>\n",
       "      <td>1 Series</td>\n",
       "      <td>0.755664</td>\n",
       "    </tr>\n",
       "    <tr>\n",
       "      <th>5</th>\n",
       "      <td>Other sedans</td>\n",
       "      <td>0.783860</td>\n",
       "    </tr>\n",
       "    <tr>\n",
       "      <th>2</th>\n",
       "      <td>3 Series</td>\n",
       "      <td>0.808115</td>\n",
       "    </tr>\n",
       "    <tr>\n",
       "      <th>3</th>\n",
       "      <td>4 Series</td>\n",
       "      <td>0.810439</td>\n",
       "    </tr>\n",
       "    <tr>\n",
       "      <th>4</th>\n",
       "      <td>5 Series</td>\n",
       "      <td>0.819206</td>\n",
       "    </tr>\n",
       "    <tr>\n",
       "      <th>9</th>\n",
       "      <td>Z Series</td>\n",
       "      <td>0.851228</td>\n",
       "    </tr>\n",
       "  </tbody>\n",
       "</table>\n",
       "</div>"
      ],
      "text/plain": [
       "        category  correlation\n",
       "6       I Series     0.598029\n",
       "7       M Series     0.629492\n",
       "8            SUV     0.654553\n",
       "1       2 Series     0.671495\n",
       "0       1 Series     0.755664\n",
       "5   Other sedans     0.783860\n",
       "2       3 Series     0.808115\n",
       "3       4 Series     0.810439\n",
       "4       5 Series     0.819206\n",
       "9       Z Series     0.851228"
      ]
     },
     "execution_count": 723,
     "metadata": {},
     "output_type": "execute_result"
    }
   ],
   "source": [
    "corr = []\n",
    "\n",
    "for item in model_list:\n",
    "    model = df[['year', 'price', 'category']].loc[(df['category'] == item)]\n",
    "    corr.append(model['year'].corr(model['price']))\n",
    "    \n",
    "\n",
    "corr_df = pd.DataFrame(zip(model_list, corr), columns=['category', 'correlation'])\n",
    "corr_df.sort_values('correlation')"
   ]
  },
  {
   "cell_type": "markdown",
   "metadata": {},
   "source": [
    "Самая низкая степень влияния года выпуска на цену (но при этом все равно очень сильное, коэффициент корреляции 0.598) в категории электрокаров, а самая высокая - в Z серии."
   ]
  },
  {
   "cell_type": "code",
   "execution_count": 724,
   "metadata": {},
   "outputs": [
    {
     "data": {
      "image/png": "[encoded data removed]",
      "text/plain": [
       "<Figure size 432x288 with 1 Axes>"
      ]
     },
     "metadata": {},
     "output_type": "display_data"
    }
   ],
   "source": [
    "sns.set_style('whitegrid')\n",
    "sns.boxplot(data = df , x = 'category' , y = 'price')\n",
    "sns.set(rc={'figure.figsize':(18, 12)})"
   ]
  },
  {
   "cell_type": "markdown",
   "metadata": {},
   "source": [
    "Средняя цена для каждой группы моделей отличается. Самая низкая средняя цена для 1 серии, самая высокая - для М серии. В группе электрокаров и Z серии есть какие-то выбросы, поэтому средняя смещена. Если бы требовалось для дальнейшего анализа - то стоило бы посмотреть детальнее. Средняя на 3 серию ниже, чем на вторую. Хотя вторая серия изначально позиционируется дешевле третьей, так как это менее мощный и меньший по размерам автомобиль. Но для 3 серии в датасете записей больше и больше машин с более ранним годом выпуска, что и снизило среднюю."
   ]
  },
  {
   "cell_type": "markdown",
   "metadata": {},
   "source": [
    "1. Изучаемый датасет содержит информацию о проданных машинах марки BMW, их основных характеристиках и стоимости каждой машины. В базе 10781 запись. \n",
    "2. Целевая переменная price - не соответствует признакам нормального распределения.\n",
    "3. <b>Год выпуска</b> 80.4% записей в датасете описывают машины с годом выпуска 2016 - 2020. И лишь 1.5% - с годом выпуска 1996-2010. При этом 50% машин - с годом выпуска 2017-2019, а 25% - с годом выпуска 2020.\n",
    "4. <b>Модель</b> Самая представленная модель БМВ 3 серии. К ней относится 22.7% всех записей. Следующая по представленности модель - БМВ 1 серии - 18.3%. При том, что все внедорожники, представленные БМВ (7 моделей) - 22.7%. Самая малочисленная группа моделей - электрокары БМВ (I Серия) - 0.6% всех записей.\n",
    "5. <b>Коробка передач</b> Неожиданно, но самый распространенный вид коробки передач - полуавтомат (43.4.%), а наименее представленная - ручная (23.4%).\n",
    "6. <b>Пробег</b> Минимальный пробег - 1 миля, максимальный - 214000 миль. Средний пробег по всей базе 25.5 тыс. миль. 25% машин в базе имеют пробег менее 5600 миль. и более половины машин имеют пробег более 18 тыс. миль.\n",
    "7. <b>Тип топлива</b> На долю автомобилей с дизельным двигателем приходится 65.2% записей, бензиновым 31.7%. На все остальные виды топлива приходится чуть более 3% записей.\n",
    "8. <b>Объем двигателя</b> 62% автомобилей, представленных в базе - автомобили с объемом двигателя 1.6 - 2 л. Так как выборка включает в себя незначительное количество электрокаров - присутствуют записи с объем двигателя 0. Также есть несколько неточных записей, где объем двигателя ошибочно указан 0. Максимальный объем двигателя 6.6 л, таких 2 машины в базе.\n",
    "9. <b>Налог</b> Вообще, очень неоднозначный показатель. Я уверена, что есть вполне себе официальная формула его расчета и он точно зависимый показатель. Я бы его вообще исключила из данных, ну если только не стояла бы задача конкретно по нему. А так - можем только сказать, что он точно зависит от типа двигателя и его объема. Вероятно, еще от цены.\n",
    "10. <b>Миль на 1 галон топлива</b> Минимальный пробег на 1 галоне топлива - 5.5, максимальный - 470.8. В среднем же, машины, представленные в датасете, могут проехать 56.4 миль на 1 галоне топлива. 75% выборки могут проехать более 45 миль на 1 галон топлива.\n",
    "11. Цена на а/м зависит от: года выпуска (0.62), размера двигателя (0.46), типа коробки передач (выше на полуавтома 0.35, ниже на ручную -0.39), пробега (-0.61).\n",
    "12. В модельных группах значительное влияние года выпуска на цену машины сохраняется, при этом самое низкое влияние в группе электрокаров (0.508), самое высокое - в Z-серии (0.85)."
   ]
  }
 ],
 "metadata": {
  "kernelspec": {
   "display_name": "Python 3",
   "language": "python",
   "name": "python3"
  },
  "language_info": {
   "codemirror_mode": {
    "name": "ipython",
    "version": 3
   },
   "file_extension": ".py",
   "mimetype": "text/x-python",
   "name": "python",
   "nbconvert_exporter": "python",
   "pygments_lexer": "ipython3",
   "version": "3.8.5"
  }
 },
 "nbformat": 4,
 "nbformat_minor": 4
}
