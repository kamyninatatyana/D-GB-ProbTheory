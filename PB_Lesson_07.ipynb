{
 "cells": [
  {
   "cell_type": "markdown",
   "metadata": {},
   "source": [
    "## Урок 7"
   ]
  },
  {
   "cell_type": "markdown",
   "metadata": {},
   "source": [
    "### Задача 1"
   ]
  },
  {
   "cell_type": "markdown",
   "metadata": {},
   "source": [
    "Даны значения величины заработной платы заемщиков банка (zp) и значения их поведенческого кредитного скоринга (ks): zp = [35, 45, 190, 200, 40, 70, 54, 150, 120, 110], ks = [401, 574, 874, 919, 459, 739, 653, 902, 746, 832]. Используя математические операции, посчитать коэффициенты линейной регрессии, приняв за X заработную плату (то есть, zp - признак), а за y - значения скорингового балла (то есть, ks - целевая переменная). Произвести расчет как с использованием intercept, так и без."
   ]
  },
  {
   "cell_type": "code",
   "execution_count": 1,
   "metadata": {},
   "outputs": [],
   "source": [
    "import numpy as np"
   ]
  },
  {
   "cell_type": "code",
   "execution_count": 34,
   "metadata": {},
   "outputs": [
    {
     "data": {
      "text/plain": [
       "array([ 35,  45, 190, 200,  40,  70,  54, 150, 120, 110])"
      ]
     },
     "execution_count": 34,
     "metadata": {},
     "output_type": "execute_result"
    }
   ],
   "source": [
    "X = np.array([35, 45, 190, 200, 40, 70, 54, 150, 120, 110])\n",
    "X"
   ]
  },
  {
   "cell_type": "code",
   "execution_count": 35,
   "metadata": {},
   "outputs": [
    {
     "data": {
      "text/plain": [
       "array([401, 574, 874, 919, 459, 739, 653, 902, 746, 832])"
      ]
     },
     "execution_count": 35,
     "metadata": {},
     "output_type": "execute_result"
    }
   ],
   "source": [
    "y = np.array([401, 574, 874, 919, 459, 739, 653, 902, 746, 832])\n",
    "y"
   ]
  },
  {
   "cell_type": "code",
   "execution_count": 9,
   "metadata": {},
   "outputs": [
    {
     "data": {
      "image/png": "[encoded data removed]",
      "text/plain": [
       "<Figure size 432x288 with 1 Axes>"
      ]
     },
     "metadata": {
      "needs_background": "light"
     },
     "output_type": "display_data"
    }
   ],
   "source": [
    "import matplotlib.pyplot as plt\n",
    "plt.scatter(X, y)\n",
    "plt.show()"
   ]
  },
  {
   "cell_type": "markdown",
   "metadata": {},
   "source": [
    "<B><font color='red'> Но ведь у нас данные не напоминают прямую линию. Это больше гипербола? То есть здесь мы должны были применить другую модель?"
   ]
  },
  {
   "cell_type": "markdown",
   "metadata": {},
   "source": [
    "<b>Расчет c интерсептом"
   ]
  },
  {
   "cell_type": "markdown",
   "metadata": {},
   "source": [
    "$$b = \\frac{\\overline{yx} - \\overline{y} \\cdot {\\overline{x}}}{\\overline{x^2} - (\\overline{x})^2};$$"
   ]
  },
  {
   "cell_type": "code",
   "execution_count": 20,
   "metadata": {},
   "outputs": [
    {
     "data": {
      "text/plain": [
       "2.620538882402765"
      ]
     },
     "execution_count": 20,
     "metadata": {},
     "output_type": "execute_result"
    }
   ],
   "source": [
    "b = ((X * y).mean() - y.mean()*X.mean()) / ((X**2).mean() - X.mean()**2)\n",
    "b"
   ]
  },
  {
   "cell_type": "markdown",
   "metadata": {},
   "source": [
    "$$a = \\overline{y} - b \\cdot {\\overline{x}}.$$"
   ]
  },
  {
   "cell_type": "code",
   "execution_count": 15,
   "metadata": {},
   "outputs": [
    {
     "data": {
      "text/plain": [
       "444.1773573243596"
      ]
     },
     "execution_count": 15,
     "metadata": {},
     "output_type": "execute_result"
    }
   ],
   "source": [
    "a = y.mean() - b * X.mean()\n",
    "a"
   ]
  },
  {
   "cell_type": "markdown",
   "metadata": {},
   "source": [
    "<b>y = 444.177 + 2.621x"
   ]
  },
  {
   "cell_type": "code",
   "execution_count": 21,
   "metadata": {},
   "outputs": [
    {
     "data": {
      "image/png": "[encoded data removed]",
      "text/plain": [
       "<Figure size 432x288 with 1 Axes>"
      ]
     },
     "metadata": {
      "needs_background": "light"
     },
     "output_type": "display_data"
    }
   ],
   "source": [
    "plt.scatter(X,y)\n",
    "plt.plot(X, 444.177 + 2.621 * X)\n",
    "plt.show()"
   ]
  },
  {
   "cell_type": "markdown",
   "metadata": {},
   "source": [
    "<b>Расчет без интерсепта:"
   ]
  },
  {
   "cell_type": "markdown",
   "metadata": {},
   "source": [
    "$B = (X^T * X)^{-1} * X^T * Y$"
   ]
  },
  {
   "cell_type": "code",
   "execution_count": 31,
   "metadata": {},
   "outputs": [],
   "source": [
    "import seaborn as sns"
   ]
  },
  {
   "cell_type": "code",
   "execution_count": 36,
   "metadata": {},
   "outputs": [
    {
     "data": {
      "text/plain": [
       "array([[ 35],\n",
       "       [ 45],\n",
       "       [190],\n",
       "       [200],\n",
       "       [ 40],\n",
       "       [ 70],\n",
       "       [ 54],\n",
       "       [150],\n",
       "       [120],\n",
       "       [110]])"
      ]
     },
     "execution_count": 36,
     "metadata": {},
     "output_type": "execute_result"
    }
   ],
   "source": [
    "X = X.reshape(10, 1)\n",
    "X"
   ]
  },
  {
   "cell_type": "code",
   "execution_count": 37,
   "metadata": {},
   "outputs": [
    {
     "data": {
      "text/plain": [
       "array([[401],\n",
       "       [574],\n",
       "       [874],\n",
       "       [919],\n",
       "       [459],\n",
       "       [739],\n",
       "       [653],\n",
       "       [902],\n",
       "       [746],\n",
       "       [832]])"
      ]
     },
     "execution_count": 37,
     "metadata": {},
     "output_type": "execute_result"
    }
   ],
   "source": [
    "y = y.reshape(10, 1)\n",
    "y"
   ]
  },
  {
   "cell_type": "code",
   "execution_count": 38,
   "metadata": {},
   "outputs": [
    {
     "data": {
      "text/plain": [
       "array([[5.88982042]])"
      ]
     },
     "execution_count": 38,
     "metadata": {},
     "output_type": "execute_result"
    }
   ],
   "source": [
    "B = np.dot(np.linalg.inv(np.dot(X.T, X)), X.T@y)\n",
    "B"
   ]
  },
  {
   "cell_type": "markdown",
   "metadata": {},
   "source": [
    "<b>y = 5.8898x"
   ]
  },
  {
   "cell_type": "code",
   "execution_count": 55,
   "metadata": {},
   "outputs": [
    {
     "data": {
      "image/png": "[encoded data removed]",
      "text/plain": [
       "<Figure size 432x288 with 1 Axes>"
      ]
     },
     "metadata": {
      "needs_background": "light"
     },
     "output_type": "display_data"
    }
   ],
   "source": [
    "plt.scatter(X,y)\n",
    "plt.plot(X, 5.8898 * X)\n",
    "plt.show()"
   ]
  },
  {
   "cell_type": "markdown",
   "metadata": {},
   "source": [
    "<b>Расчет с интерсептом"
   ]
  },
  {
   "cell_type": "code",
   "execution_count": 29,
   "metadata": {},
   "outputs": [
    {
     "data": {
      "text/plain": [
       "array([[  1.,  35.],\n",
       "       [  1.,  45.],\n",
       "       [  1., 190.],\n",
       "       [  1., 200.],\n",
       "       [  1.,  40.],\n",
       "       [  1.,  70.],\n",
       "       [  1.,  54.],\n",
       "       [  1., 150.],\n",
       "       [  1., 120.],\n",
       "       [  1., 110.]])"
      ]
     },
     "execution_count": 29,
     "metadata": {},
     "output_type": "execute_result"
    }
   ],
   "source": [
    "X = np.hstack([np.ones((10,1)), X])\n",
    "X"
   ]
  },
  {
   "cell_type": "code",
   "execution_count": 30,
   "metadata": {},
   "outputs": [
    {
     "data": {
      "text/plain": [
       "array([[444.17735732],\n",
       "       [  2.62053888]])"
      ]
     },
     "execution_count": 30,
     "metadata": {},
     "output_type": "execute_result"
    }
   ],
   "source": [
    "B = np.dot(np.linalg.inv(np.dot(X.T, X)), X.T@y)\n",
    "B"
   ]
  },
  {
   "cell_type": "markdown",
   "metadata": {},
   "source": [
    "### Задача 2"
   ]
  },
  {
   "cell_type": "markdown",
   "metadata": {},
   "source": [
    "Посчитать коэффициент линейной регрессии при заработной плате (zp), используя градиентный спуск (без intercept)."
   ]
  },
  {
   "cell_type": "code",
   "execution_count": 41,
   "metadata": {},
   "outputs": [
    {
     "data": {
      "text/plain": [
       "array([ 35,  45, 190, 200,  40,  70,  54, 150, 120, 110])"
      ]
     },
     "execution_count": 41,
     "metadata": {},
     "output_type": "execute_result"
    }
   ],
   "source": [
    "X = np.array([35, 45, 190, 200, 40, 70, 54, 150, 120, 110])\n",
    "X"
   ]
  },
  {
   "cell_type": "code",
   "execution_count": 42,
   "metadata": {},
   "outputs": [
    {
     "data": {
      "text/plain": [
       "array([401, 574, 874, 919, 459, 739, 653, 902, 746, 832])"
      ]
     },
     "execution_count": 42,
     "metadata": {},
     "output_type": "execute_result"
    }
   ],
   "source": [
    "y = np.array([401, 574, 874, 919, 459, 739, 653, 902, 746, 832])\n",
    "y"
   ]
  },
  {
   "cell_type": "code",
   "execution_count": 43,
   "metadata": {},
   "outputs": [],
   "source": [
    "def mse_(B1, y=y, X=X, n=10):\n",
    "    return np.sum((B1 * X - y)**2)/n"
   ]
  },
  {
   "cell_type": "code",
   "execution_count": 44,
   "metadata": {},
   "outputs": [
    {
     "data": {
      "text/plain": [
       "1e-06"
      ]
     },
     "execution_count": 44,
     "metadata": {},
     "output_type": "execute_result"
    }
   ],
   "source": [
    "alpha = 1e-6\n",
    "alpha"
   ]
  },
  {
   "cell_type": "markdown",
   "metadata": {},
   "source": [
    "mse = (1/n) * np.sum((B1 * X - y)**2)"
   ]
  },
  {
   "cell_type": "markdown",
   "metadata": {},
   "source": [
    "mse_p = (2/n) * np.sum((B1 * X-y)*X)"
   ]
  },
  {
   "cell_type": "code",
   "execution_count": 45,
   "metadata": {},
   "outputs": [],
   "source": [
    "B1 = 0.1"
   ]
  },
  {
   "cell_type": "code",
   "execution_count": 46,
   "metadata": {},
   "outputs": [],
   "source": [
    "n = 10"
   ]
  },
  {
   "cell_type": "code",
   "execution_count": 48,
   "metadata": {},
   "outputs": [
    {
     "name": "stdout",
     "output_type": "stream",
     "text": [
      "B1=0.25952808\n",
      "B1=0.414660650906144\n",
      "B1=0.5655188230595969\n",
      "B1=0.7122203698240712\n",
      "B1=0.8548798195302346\n",
      "B1=0.9936085448867542\n",
      "B1=1.1285148499277806\n",
      "B1=1.2597040545647504\n",
      "B1=1.387278576808517\n",
      "B1=1.5113380127259965\n"
     ]
    }
   ],
   "source": [
    "for i in range(10):\n",
    "    B1 -=alpha*(2/n)*np.sum((B1*X-y)*X)\n",
    "    print(f'B1={B1}')"
   ]
  },
  {
   "cell_type": "code",
   "execution_count": 52,
   "metadata": {},
   "outputs": [
    {
     "name": "stdout",
     "output_type": "stream",
     "text": [
      "Iteration 0: B1=5.636517342600247, mse=57400.798811816945\n",
      "Iteration 10: B1=5.698262998962733, mse=57022.38035972514\n",
      "Iteration 20: B1=5.7449574126921865, mse=56805.96437467272\n",
      "Iteration 30: B1=5.780269504294831, mse=56682.19694650604\n",
      "Iteration 40: B1=5.80697385099845, mse=56611.41485399434\n",
      "Iteration 50: B1=5.827168693628889, mse=56570.93486103862\n",
      "Iteration 60: B1=5.842440801701578, mse=56547.78451648746\n",
      "Iteration 70: B1=5.853990150674089, mse=56534.54492789808\n",
      "Iteration 80: B1=5.862724207626408, mse=56526.97326063283\n",
      "Iteration 90: B1=5.869329233678346, mse=56522.64305469114\n"
     ]
    }
   ],
   "source": [
    "for i in range(100):\n",
    "    B1 -=alpha*(2/n)*np.sum((B1*X-y)*X)\n",
    "    if i%10==0:\n",
    "        print(f'Iteration {i}: B1={B1}, mse={mse_(B1)}')"
   ]
  },
  {
   "cell_type": "code",
   "execution_count": 53,
   "metadata": {},
   "outputs": [
    {
     "name": "stdout",
     "output_type": "stream",
     "text": [
      "Iteration 0: B1=5.874324205589446, mse=56520.16662739441\n",
      "Iteration 10: B1=5.878101593323646, mse=56518.75036862087\n",
      "Iteration 20: B1=5.88095819759459, mse=56517.940415945835\n",
      "Iteration 30: B1=5.8831184703902295, mse=56517.4772072808\n",
      "Iteration 40: B1=5.884752150840494, mse=56517.21230011528\n",
      "Iteration 50: B1=5.885987602131164, mse=56517.060800776744\n",
      "Iteration 60: B1=5.886921897385399, mse=56516.974158916666\n",
      "Iteration 70: B1=5.887628446990941, mse=56516.92460878666\n",
      "Iteration 80: B1=5.888162766675032, mse=56516.89627126734\n",
      "Iteration 90: B1=5.888566839542056, mse=56516.88006515444\n",
      "Iteration 100: B1=5.8888724148123055, mse=56516.87079694392\n"
     ]
    }
   ],
   "source": [
    "for i in range(101):\n",
    "    B1 -=alpha*(2/n)*np.sum((B1*X-y)*X)\n",
    "    if i%10==0:\n",
    "        print(f'Iteration {i}: B1={B1}, mse={mse_(B1)}')"
   ]
  },
  {
   "cell_type": "code",
   "execution_count": 54,
   "metadata": {},
   "outputs": [
    {
     "name": "stdout",
     "output_type": "stream",
     "text": [
      "Iteration 0: B1=5.888898535392499, mse=56516.87012405876\n",
      "Iteration 500: B1=5.889820419342732, mse=56516.8584157194\n",
      "Iteration 1000: B1=5.889820420132673, mse=56516.85841571943\n",
      "Iteration 1500: B1=5.889820420132673, mse=56516.85841571943\n",
      "Iteration 2000: B1=5.889820420132673, mse=56516.85841571943\n",
      "Iteration 2500: B1=5.889820420132673, mse=56516.85841571943\n",
      "Iteration 3000: B1=5.889820420132673, mse=56516.85841571943\n"
     ]
    }
   ],
   "source": [
    "for i in range(3001):\n",
    "    B1 -=alpha*(2/n)*np.sum((B1*X-y)*X)\n",
    "    if i%500==0:\n",
    "        print(f'Iteration {i}: B1={B1}, mse={mse_(B1)}')"
   ]
  },
  {
   "cell_type": "markdown",
   "metadata": {},
   "source": [
    "<b>y = 5.8898x"
   ]
  },
  {
   "cell_type": "markdown",
   "metadata": {},
   "source": [
    "### Задача 3"
   ]
  },
  {
   "cell_type": "markdown",
   "metadata": {},
   "source": [
    "В каких случаях для вычисления доверительных интервалов и проверки статистических гипотез используется таблица значений функции Лапласа, а в каких - таблица критических точек распределения Стьюдента?"
   ]
  },
  {
   "cell_type": "markdown",
   "metadata": {},
   "source": [
    "<i> Если известна сигма ГС, то критерий Z, если не известна - то t."
   ]
  },
  {
   "cell_type": "markdown",
   "metadata": {},
   "source": [
    "### Задача 4"
   ]
  },
  {
   "cell_type": "markdown",
   "metadata": {},
   "source": [
    "Произвести вычисления как в пункте 2, но с вычислением intercept. Учесть, что изменение коэффициентов должно производиться на каждом шаге одновременно (то есть изменение одного коэффициента не должно влиять на изменение другого во время одной итерации)."
   ]
  },
  {
   "cell_type": "code",
   "execution_count": 58,
   "metadata": {},
   "outputs": [],
   "source": [
    "B1 = 0.1\n",
    "B0 = 0.1"
   ]
  },
  {
   "cell_type": "code",
   "execution_count": 59,
   "metadata": {},
   "outputs": [],
   "source": [
    "def mse_(B0, B1, y=y, X=X, n=10):\n",
    "    return np.sum((B0 + B1 * X - y)**2)/n"
   ]
  },
  {
   "cell_type": "code",
   "execution_count": 70,
   "metadata": {},
   "outputs": [
    {
     "name": "stdout",
     "output_type": "stream",
     "text": [
      "Iteration 0: B0 = 444.1374509347358, B1 = 2.620832611074025, mse = 6470.414605143085\n",
      "Iteration 1000000: B0 = 444.1533289838989, B1 = 2.620715741612096, mse = 6470.414347632922\n",
      "Iteration 2000000: B0 = 444.16288943711714, B1 = 2.6206453724494914, mse = 6470.414254273734\n",
      "Iteration 3000000: B0 = 444.1686459544784, B1 = 2.6206030019366087, mse = 6470.4142204267755\n",
      "Iteration 4000000: B0 = 444.1721120550347, B1 = 2.6205774899040657, mse = 6470.414208155706\n",
      "Iteration 5000000: B0 = 444.17419905526236, B1 = 2.620562128659672, mse = 6470.414203706881\n",
      "Iteration 6000000: B0 = 444.1754556748752, B1 = 2.6205528793837383, mse = 6470.4142020939835\n",
      "Iteration 7000000: B0 = 444.1762123076895, B1 = 2.6205473102316987, mse = 6470.414201509231\n",
      "Iteration 8000000: B0 = 444.17666788964283, B1 = 2.6205439569470954, mse = 6470.414201297232\n",
      "Iteration 9000000: B0 = 444.1769422035642, B1 = 2.6205419378753567, mse = 6470.414201220372\n",
      "Iteration 10000000: B0 = 444.1771073728108, B1 = 2.6205407221566728, mse = 6470.414201192508\n",
      "Iteration 11000000: B0 = 444.17720682412124, B1 = 2.6205399901510606, mse = 6470.414201182404\n",
      "Iteration 12000000: B0 = 444.1772667055095, B1 = 2.620539549397576, mse = 6470.4142011787435\n",
      "Iteration 13000000: B0 = 444.1773027611368, B1 = 2.620539284012205, mse = 6470.414201177412\n",
      "Iteration 14000000: B0 = 444.17732447086786, B1 = 2.6205391242189937, mse = 6470.414201176935\n",
      "Iteration 15000000: B0 = 444.1773375427202, B1 = 2.6205390280043805, mse = 6470.414201176759\n",
      "Iteration 16000000: B0 = 444.1773454134357, B1 = 2.620538970072421, mse = 6470.414201176694\n",
      "Iteration 17000000: B0 = 444.17735015245984, B1 = 2.6205389351911217, mse = 6470.414201176676\n",
      "Iteration 18000000: B0 = 444.1773530061881, B1 = 2.6205389141864197, mse = 6470.414201176661\n",
      "Iteration 19000000: B0 = 444.177354723965, B1 = 2.6205389015428135, mse = 6470.41420117666\n"
     ]
    }
   ],
   "source": [
    "for i in range(19000001):\n",
    "    y_pred = B0 + B1 * X\n",
    "    B0 -=alpha * (2/n) * np.sum((y_pred - y))\n",
    "    B1 -=alpha * (2/n) * np.sum((y_pred - y) * X)\n",
    "    if i%1000000==0:\n",
    "        print(f'Iteration {i}: B0 = {B0}, B1 = {B1}, mse = {mse_(B0, B1)}')"
   ]
  },
  {
   "cell_type": "markdown",
   "metadata": {},
   "source": [
    "<b>y = 44.1773 + 2.6205x"
   ]
  }
 ],
 "metadata": {
  "kernelspec": {
   "display_name": "Python 3",
   "language": "python",
   "name": "python3"
  },
  "language_info": {
   "codemirror_mode": {
    "name": "ipython",
    "version": 3
   },
   "file_extension": ".py",
   "mimetype": "text/x-python",
   "name": "python",
   "nbconvert_exporter": "python",
   "pygments_lexer": "ipython3",
   "version": "3.8.5"
  }
 },
 "nbformat": 4,
 "nbformat_minor": 4
}
